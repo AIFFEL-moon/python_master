{
 "cells": [
  {
   "cell_type": "code",
   "execution_count": 1,
   "id": "fitted-aggregate",
   "metadata": {},
   "outputs": [
    {
     "name": "stdout",
     "output_type": "stream",
     "text": [
      "Hello, world!\n"
     ]
    }
   ],
   "source": [
    "print('Hello, world!')"
   ]
  },
  {
   "cell_type": "code",
   "execution_count": 2,
   "id": "injured-hardwood",
   "metadata": {},
   "outputs": [
    {
     "name": "stdout",
     "output_type": "stream",
     "text": [
      "Hello world!\n",
      "Welcome\n"
     ]
    }
   ],
   "source": [
    "print('Hello world!'); print('Welcome')"
   ]
  },
  {
   "cell_type": "code",
   "execution_count": 6,
   "id": "living-assurance",
   "metadata": {},
   "outputs": [],
   "source": [
    "# print('1234')"
   ]
  },
  {
   "cell_type": "code",
   "execution_count": 5,
   "id": "bulgarian-membership",
   "metadata": {},
   "outputs": [
    {
     "name": "stdout",
     "output_type": "stream",
     "text": [
      "2\n"
     ]
    }
   ],
   "source": [
    "# 곱하기\n",
    "a = 1*2\n",
    "print(a)"
   ]
  },
  {
   "cell_type": "code",
   "execution_count": 7,
   "id": "compound-history",
   "metadata": {},
   "outputs": [
    {
     "ename": "IndentationError",
     "evalue": "expected an indented block (<ipython-input-7-e798bc51a379>, line 3)",
     "output_type": "error",
     "traceback": [
      "\u001b[0;36m  File \u001b[0;32m\"<ipython-input-7-e798bc51a379>\"\u001b[0;36m, line \u001b[0;32m3\u001b[0m\n\u001b[0;31m    print('1234')\u001b[0m\n\u001b[0m        ^\u001b[0m\n\u001b[0;31mIndentationError\u001b[0m\u001b[0;31m:\u001b[0m expected an indented block\n"
     ]
    }
   ],
   "source": [
    "# 들여쓰기 에러\n",
    "if a == 10:\n",
    "print('1234')"
   ]
  },
  {
   "cell_type": "code",
   "execution_count": 8,
   "id": "final-impossible",
   "metadata": {},
   "outputs": [
    {
     "name": "stdout",
     "output_type": "stream",
     "text": [
      "출력\n"
     ]
    }
   ],
   "source": [
    "# 파이썬에서의 들여쓰기는 공백 2칸, 공백 4칸, 탭 1칸이 있으나\n",
    "# 코딩 스타일 가이드에서는 공백 4칸을 쓰는 것을 규정\n",
    "if a == 2:\n",
    "    print('출력')"
   ]
  },
  {
   "cell_type": "code",
   "execution_count": 11,
   "id": "critical-shaft",
   "metadata": {},
   "outputs": [
    {
     "name": "stdout",
     "output_type": "stream",
     "text": [
      "\n",
      "2-2\n"
     ]
    }
   ],
   "source": [
    "# 코드블록 및 들여쓰기\n",
    "# 1번\n",
    "b = 4\n",
    "\n",
    "if b == 5:\n",
    "    print('1-1')\n",
    "    print('1-2')\n",
    "\n",
    "print()\n",
    "\n",
    "# 2번\n",
    "if b == 5:\n",
    "    print('2-1')\n",
    "print('2-2')"
   ]
  },
  {
   "cell_type": "code",
   "execution_count": null,
   "id": "funky-investor",
   "metadata": {},
   "outputs": [],
   "source": []
  }
 ],
 "metadata": {
  "kernelspec": {
   "display_name": "Python 3",
   "language": "python",
   "name": "python3"
  },
  "language_info": {
   "codemirror_mode": {
    "name": "ipython",
    "version": 3
   },
   "file_extension": ".py",
   "mimetype": "text/x-python",
   "name": "python",
   "nbconvert_exporter": "python",
   "pygments_lexer": "ipython3",
   "version": "3.7.9"
  }
 },
 "nbformat": 4,
 "nbformat_minor": 5
}
