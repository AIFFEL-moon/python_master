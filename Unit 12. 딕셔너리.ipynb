{
 "cells": [
  {
   "cell_type": "markdown",
   "id": "cardiac-replacement",
   "metadata": {},
   "source": [
    "# 딕셔너리"
   ]
  },
  {
   "cell_type": "code",
   "execution_count": 9,
   "id": "angry-diameter",
   "metadata": {},
   "outputs": [
    {
     "name": "stdout",
     "output_type": "stream",
     "text": [
      "{} {}\n"
     ]
    }
   ],
   "source": [
    "# 빈 딕셔너리 객체 생성\n",
    "a = {}\n",
    "b = dict()\n",
    "print(a, b)"
   ]
  },
  {
   "cell_type": "code",
   "execution_count": 11,
   "id": "announced-foundation",
   "metadata": {},
   "outputs": [
    {
     "data": {
      "text/plain": [
       "{'a': 1, 'b': 2}"
      ]
     },
     "execution_count": 11,
     "metadata": {},
     "output_type": "execute_result"
    }
   ],
   "source": [
    "# 딕셔너리의 요소는 key - value로 정한다.\n",
    "c = {'a' : 1, 'b' : 2}\n",
    "c"
   ]
  },
  {
   "cell_type": "code",
   "execution_count": 13,
   "id": "lyric-maple",
   "metadata": {},
   "outputs": [
    {
     "data": {
      "text/plain": [
       "{'a': 1000}"
      ]
     },
     "execution_count": 13,
     "metadata": {},
     "output_type": "execute_result"
    }
   ],
   "source": [
    "# 키 중복시\n",
    "d = {'a' : 1, 'a' : 1000} # {'a' : 1000} --> 최종적으로 나중에 있는 key에 저장된 value값으로 저장\n",
    "d"
   ]
  },
  {
   "cell_type": "code",
   "execution_count": 14,
   "id": "chinese-berry",
   "metadata": {},
   "outputs": [
    {
     "data": {
      "text/plain": [
       "{100: '백', False: 0, 2.9: [9.9, 100.1]}"
      ]
     },
     "execution_count": 14,
     "metadata": {},
     "output_type": "execute_result"
    }
   ],
   "source": [
    "x = {100: '백', False : 0, 2.9 : [9.9, 100.100]}\n",
    "x"
   ]
  },
  {
   "cell_type": "code",
   "execution_count": 20,
   "id": "parental-ethernet",
   "metadata": {},
   "outputs": [
    {
     "data": {
      "text/plain": [
       "{(100, 100): '백', False: 0, 2.9: [9.9, 100.1]}"
      ]
     },
     "execution_count": 20,
     "metadata": {},
     "output_type": "execute_result"
    }
   ],
   "source": [
    "# 키 값에는 str, bool, int, float, tuple 사용가능\n",
    "y = {(100, 100): '백', False : 0, 2.9 : [9.9, 100.100]}\n",
    "y"
   ]
  },
  {
   "cell_type": "code",
   "execution_count": 19,
   "id": "thick-mustang",
   "metadata": {},
   "outputs": [
    {
     "ename": "TypeError",
     "evalue": "unhashable type: 'list'",
     "output_type": "error",
     "traceback": [
      "\u001b[0;31m---------------------------------------------------------------------------\u001b[0m",
      "\u001b[0;31mTypeError\u001b[0m                                 Traceback (most recent call last)",
      "\u001b[0;32m<ipython-input-19-48baff831a7b>\u001b[0m in \u001b[0;36m<module>\u001b[0;34m\u001b[0m\n\u001b[0;32m----> 1\u001b[0;31m \u001b[0mz\u001b[0m \u001b[0;34m=\u001b[0m \u001b[0;34m{\u001b[0m\u001b[0;34m[\u001b[0m\u001b[0;36m100\u001b[0m\u001b[0;34m,\u001b[0m \u001b[0;36m100\u001b[0m\u001b[0;34m]\u001b[0m\u001b[0;34m:\u001b[0m \u001b[0;34m'백'\u001b[0m\u001b[0;34m,\u001b[0m \u001b[0;32mFalse\u001b[0m \u001b[0;34m:\u001b[0m \u001b[0;36m0\u001b[0m\u001b[0;34m,\u001b[0m \u001b[0;36m2.9\u001b[0m \u001b[0;34m:\u001b[0m \u001b[0;34m[\u001b[0m\u001b[0;36m9.9\u001b[0m\u001b[0;34m,\u001b[0m \u001b[0;36m100.100\u001b[0m\u001b[0;34m]\u001b[0m\u001b[0;34m}\u001b[0m\u001b[0;34m\u001b[0m\u001b[0;34m\u001b[0m\u001b[0m\n\u001b[0m\u001b[1;32m      2\u001b[0m \u001b[0mz\u001b[0m\u001b[0;34m\u001b[0m\u001b[0;34m\u001b[0m\u001b[0m\n",
      "\u001b[0;31mTypeError\u001b[0m: unhashable type: 'list'"
     ]
    }
   ],
   "source": [
    "# 키 값에는 list, dictionary 사용불가\n",
    "z = {[100, 100]: '백', False : 0, 2.9 : [9.9, 100.100]}\n",
    "z"
   ]
  },
  {
   "cell_type": "code",
   "execution_count": 21,
   "id": "educated-fight",
   "metadata": {},
   "outputs": [
    {
     "ename": "TypeError",
     "evalue": "unhashable type: 'dict'",
     "output_type": "error",
     "traceback": [
      "\u001b[0;31m---------------------------------------------------------------------------\u001b[0m",
      "\u001b[0;31mTypeError\u001b[0m                                 Traceback (most recent call last)",
      "\u001b[0;32m<ipython-input-21-9ad7f3b59756>\u001b[0m in \u001b[0;36m<module>\u001b[0;34m\u001b[0m\n\u001b[1;32m      1\u001b[0m \u001b[0;31m# 키 값에는 list, dictionary 사용불가\u001b[0m\u001b[0;34m\u001b[0m\u001b[0;34m\u001b[0m\u001b[0;34m\u001b[0m\u001b[0m\n\u001b[0;32m----> 2\u001b[0;31m \u001b[0mz\u001b[0m \u001b[0;34m=\u001b[0m \u001b[0;34m{\u001b[0m\u001b[0;34m{\u001b[0m\u001b[0;34m'a'\u001b[0m \u001b[0;34m:\u001b[0m \u001b[0;34m'b'\u001b[0m\u001b[0;34m}\u001b[0m\u001b[0;34m:\u001b[0m \u001b[0;34m'백'\u001b[0m\u001b[0;34m,\u001b[0m \u001b[0;32mFalse\u001b[0m \u001b[0;34m:\u001b[0m \u001b[0;36m0\u001b[0m\u001b[0;34m,\u001b[0m \u001b[0;36m2.9\u001b[0m \u001b[0;34m:\u001b[0m \u001b[0;34m[\u001b[0m\u001b[0;36m9.9\u001b[0m\u001b[0;34m,\u001b[0m \u001b[0;36m100.100\u001b[0m\u001b[0;34m]\u001b[0m\u001b[0;34m}\u001b[0m\u001b[0;34m\u001b[0m\u001b[0;34m\u001b[0m\u001b[0m\n\u001b[0m\u001b[1;32m      3\u001b[0m \u001b[0mz\u001b[0m\u001b[0;34m\u001b[0m\u001b[0;34m\u001b[0m\u001b[0m\n",
      "\u001b[0;31mTypeError\u001b[0m: unhashable type: 'dict'"
     ]
    }
   ],
   "source": [
    "# 키 값에는 list, dictionary 사용불가\n",
    "z = {{'a' : 'b'}: '백', False : 0, 2.9 : [9.9, 100.100]}\n",
    "z"
   ]
  },
  {
   "cell_type": "markdown",
   "id": "medical-music",
   "metadata": {},
   "source": [
    "## dict로 딕셔너리 생성하기\n",
    "  - 딕셔너리 = dict(키1=값1, 키2=값2)\n",
    "  - 딕셔너리 = dict( zip([키1, 키2], [값1, 값2]) )\n",
    "  - 딕셔너리 = dict( [ (키1, 값1), (키2, 값2) ] )\n",
    "  - 딕셔너리 = dict( {키1: 값1, 키2: 값2} )"
   ]
  },
  {
   "cell_type": "markdown",
   "id": "through-chassis",
   "metadata": {},
   "source": [
    "### 1. 딕셔너리 = dict(키1=값1, 키2=값2)"
   ]
  },
  {
   "cell_type": "code",
   "execution_count": 24,
   "id": "colored-client",
   "metadata": {},
   "outputs": [
    {
     "data": {
      "text/plain": [
       "{'health': 100, 'mana': 50}"
      ]
     },
     "execution_count": 24,
     "metadata": {},
     "output_type": "execute_result"
    }
   ],
   "source": [
    "# dict()로 생성할 때는 key=value임\n",
    "# 단, key에만 ''(작은 따옴표)나 \"\"(큰 따옴표) 사용하면 안됨 / value에는 기존 그대로 적용\n",
    "teemo = dict(health=100, mana=50)\n",
    "teemo"
   ]
  },
  {
   "cell_type": "markdown",
   "id": "found-warning",
   "metadata": {},
   "source": [
    "#### keys()"
   ]
  },
  {
   "cell_type": "code",
   "execution_count": 52,
   "id": "announced-hormone",
   "metadata": {},
   "outputs": [
    {
     "data": {
      "text/plain": [
       "dict_keys(['health', 'mana'])"
      ]
     },
     "execution_count": 52,
     "metadata": {},
     "output_type": "execute_result"
    }
   ],
   "source": [
    "# keys() : 키 값만 뽑아온다.\n",
    "teemo.keys()"
   ]
  },
  {
   "cell_type": "markdown",
   "id": "protected-dinner",
   "metadata": {},
   "source": [
    "#### values()"
   ]
  },
  {
   "cell_type": "code",
   "execution_count": 53,
   "id": "marked-motorcycle",
   "metadata": {},
   "outputs": [
    {
     "data": {
      "text/plain": [
       "dict_values([100, 50])"
      ]
     },
     "execution_count": 53,
     "metadata": {},
     "output_type": "execute_result"
    }
   ],
   "source": [
    "# values() : 값만 뽑아온다.\n",
    "teemo.values()"
   ]
  },
  {
   "cell_type": "markdown",
   "id": "persistent-lightning",
   "metadata": {},
   "source": [
    "### 2. 딕셔너리 = dict( zip([키1, 키2], [값1, 값2]) )\n",
    "dict( zip( [리스트1], [리스트2] ) )"
   ]
  },
  {
   "cell_type": "code",
   "execution_count": 27,
   "id": "inside-lawyer",
   "metadata": {},
   "outputs": [
    {
     "data": {
      "text/plain": [
       "{'a': 1.0, 'b': 2.0}"
      ]
     },
     "execution_count": 27,
     "metadata": {},
     "output_type": "execute_result"
    }
   ],
   "source": [
    "t = dict( zip(['a', 'b'], [1.0, 2.0]) )\n",
    "t"
   ]
  },
  {
   "cell_type": "markdown",
   "id": "dress-utilization",
   "metadata": {},
   "source": [
    "### 3. 딕셔너리 = dict( [ (키1,값1), (키2, 값2)] )"
   ]
  },
  {
   "cell_type": "code",
   "execution_count": 30,
   "id": "solid-campus",
   "metadata": {},
   "outputs": [
    {
     "data": {
      "text/plain": [
       "{False: 0, True: 999.999}"
      ]
     },
     "execution_count": 30,
     "metadata": {},
     "output_type": "execute_result"
    }
   ],
   "source": [
    "n = dict( [ (False, 0), (True, 999.999) ] )\n",
    "n"
   ]
  },
  {
   "cell_type": "markdown",
   "id": "incomplete-witness",
   "metadata": {},
   "source": [
    "### 4. 딕셔너리 = dict( {키1:값1, 키2: 값2} )"
   ]
  },
  {
   "cell_type": "code",
   "execution_count": 32,
   "id": "fresh-granny",
   "metadata": {},
   "outputs": [
    {
     "data": {
      "text/plain": [
       "{'key1': 'value1', 'key2': 'value2'}"
      ]
     },
     "execution_count": 32,
     "metadata": {},
     "output_type": "execute_result"
    }
   ],
   "source": [
    "m = dict( {'key1':'value1', 'key2':'value2'} )\n",
    "m"
   ]
  },
  {
   "cell_type": "code",
   "execution_count": 41,
   "id": "lesbian-computer",
   "metadata": {},
   "outputs": [
    {
     "name": "stdout",
     "output_type": "stream",
     "text": [
      "{'key1': 'value1', 'key2': 'value2'}\n",
      "{'key10': 'value10', 'key20': 'value20'}\n",
      "{'key100': 'value100', 'key200': 'value200'}\n",
      "{'key1000': 'value1000', 'key2000': 'value2000'}\n"
     ]
    }
   ],
   "source": [
    "o = dict( key1='value1', key2='value2' ) # 1. dict(키=값)\n",
    "p = dict( zip( ['key10', 'key20'], ['value10', 'value20'] ) ) # 2. dict( zip( [키1,키2], [값1,값2] ) )\n",
    "s = dict( [ ('key100', 'value100'), ('key200', 'value200') ] ) # 3. dict( [ (키1,값1), (키2,값2) ] )\n",
    "r = dict( {'key1000':'value1000', 'key2000':'value2000'} ) # 4. dict( {키1:값1, 키2:값2} )\n",
    "\n",
    "print(o)\n",
    "print(p)\n",
    "print(s)\n",
    "print(r)"
   ]
  },
  {
   "cell_type": "code",
   "execution_count": 44,
   "id": "attractive-wonder",
   "metadata": {},
   "outputs": [
    {
     "name": "stdout",
     "output_type": "stream",
     "text": [
      "334\n",
      "{'health': 490, 'mana': 334, 'melee': 550, 'armor': 18.72}\n"
     ]
    }
   ],
   "source": [
    "aaa = {'health': 490, 'mana': 334, 'melee': 550, 'armor': 18.72}\n",
    "print(aaa['mana'])\n",
    "print(aaa)"
   ]
  },
  {
   "cell_type": "code",
   "execution_count": 48,
   "id": "likely-egyptian",
   "metadata": {},
   "outputs": [
    {
     "name": "stdout",
     "output_type": "stream",
     "text": [
      "999999\n",
      "{'health': 490, 'mana': 999999, 'melee': 550, 'armor': 18.72, 'new_key': False}\n"
     ]
    }
   ],
   "source": [
    "aaa['mana'] = 999999\n",
    "#print(aaa['old_key']) # aaa 딕셔너리 객체에 old_key라는 key값이 없으므로 에러\n",
    "aaa['new_key'] = False\n",
    "print(aaa['mana'])\n",
    "print(aaa)"
   ]
  },
  {
   "cell_type": "code",
   "execution_count": 49,
   "id": "white-pregnancy",
   "metadata": {},
   "outputs": [
    {
     "data": {
      "text/plain": [
       "True"
      ]
     },
     "execution_count": 49,
     "metadata": {},
     "output_type": "execute_result"
    }
   ],
   "source": [
    "'mana' in aaa"
   ]
  },
  {
   "cell_type": "code",
   "execution_count": 50,
   "id": "opposite-diamond",
   "metadata": {},
   "outputs": [
    {
     "data": {
      "text/plain": [
       "False"
      ]
     },
     "execution_count": 50,
     "metadata": {},
     "output_type": "execute_result"
    }
   ],
   "source": [
    "'old_key' in aaa"
   ]
  },
  {
   "cell_type": "code",
   "execution_count": 51,
   "id": "fifth-crime",
   "metadata": {},
   "outputs": [
    {
     "data": {
      "text/plain": [
       "5"
      ]
     },
     "execution_count": 51,
     "metadata": {},
     "output_type": "execute_result"
    }
   ],
   "source": [
    "len(aaa)"
   ]
  },
  {
   "cell_type": "code",
   "execution_count": 54,
   "id": "nutritional-vatican",
   "metadata": {},
   "outputs": [
    {
     "name": "stdout",
     "output_type": "stream",
     "text": [
      "health health_regen mana mana_regen\n",
      "575.6 1.7 338.8 1.63\n"
     ]
    },
    {
     "data": {
      "text/plain": [
       "{'health': 575.6, 'health_regen': 1.7, 'mana': 338.8, 'mana_regen': 1.63}"
      ]
     },
     "execution_count": 54,
     "metadata": {},
     "output_type": "execute_result"
    }
   ],
   "source": [
    "key = input().split()\n",
    "value = map(float, input().split())\n",
    "\n",
    "new_dict = dict( zip( key, value ) )\n",
    "new_dict"
   ]
  },
  {
   "cell_type": "code",
   "execution_count": null,
   "id": "powerful-activation",
   "metadata": {},
   "outputs": [],
   "source": []
  }
 ],
 "metadata": {
  "kernelspec": {
   "display_name": "Python 3",
   "language": "python",
   "name": "python3"
  },
  "language_info": {
   "codemirror_mode": {
    "name": "ipython",
    "version": 3
   },
   "file_extension": ".py",
   "mimetype": "text/x-python",
   "name": "python",
   "nbconvert_exporter": "python",
   "pygments_lexer": "ipython3",
   "version": "3.7.9"
  }
 },
 "nbformat": 4,
 "nbformat_minor": 5
}
