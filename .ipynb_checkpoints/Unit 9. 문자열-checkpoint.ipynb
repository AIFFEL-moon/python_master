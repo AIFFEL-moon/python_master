{
 "cells": [
  {
   "cell_type": "code",
   "execution_count": 3,
   "id": "interesting-spectacular",
   "metadata": {},
   "outputs": [
    {
     "data": {
      "text/plain": [
       "'Hello world'"
      ]
     },
     "execution_count": 3,
     "metadata": {},
     "output_type": "execute_result"
    }
   ],
   "source": [
    "'Hello world' # 작은 따옴표"
   ]
  },
  {
   "cell_type": "code",
   "execution_count": 4,
   "id": "sacred-limit",
   "metadata": {},
   "outputs": [
    {
     "data": {
      "text/plain": [
       "'Hello wolrd'"
      ]
     },
     "execution_count": 4,
     "metadata": {},
     "output_type": "execute_result"
    }
   ],
   "source": [
    "\"Hello wolrd\" # 큰 따옴표"
   ]
  },
  {
   "cell_type": "code",
   "execution_count": 5,
   "id": "heard-weight",
   "metadata": {},
   "outputs": [
    {
     "data": {
      "text/plain": [
       "'Hello world'"
      ]
     },
     "execution_count": 5,
     "metadata": {},
     "output_type": "execute_result"
    }
   ],
   "source": [
    "'''Hello world''' # 작은 따옴표 3개"
   ]
  },
  {
   "cell_type": "code",
   "execution_count": 6,
   "id": "organized-sharp",
   "metadata": {},
   "outputs": [
    {
     "data": {
      "text/plain": [
       "'Hello world'"
      ]
     },
     "execution_count": 6,
     "metadata": {},
     "output_type": "execute_result"
    }
   ],
   "source": [
    "\"\"\"Hello world\"\"\" # 큰 따옴표 3개"
   ]
  },
  {
   "cell_type": "code",
   "execution_count": 7,
   "id": "signed-labor",
   "metadata": {},
   "outputs": [
    {
     "data": {
      "text/plain": [
       "'a\\nb\\nc\\nd\\ne'"
      ]
     },
     "execution_count": 7,
     "metadata": {},
     "output_type": "execute_result"
    }
   ],
   "source": [
    "'''a\n",
    "b\n",
    "c\n",
    "d\n",
    "e''' # print함수를 쓰지 않아 개행문자가 그대로 노출된듯"
   ]
  },
  {
   "cell_type": "code",
   "execution_count": 9,
   "id": "editorial-jaguar",
   "metadata": {},
   "outputs": [
    {
     "name": "stdout",
     "output_type": "stream",
     "text": [
      "a\n",
      "b\n",
      "c\n",
      "d\n",
      "e\n"
     ]
    }
   ],
   "source": [
    "a = '''a\n",
    "b\n",
    "c\n",
    "d\n",
    "e'''\n",
    "\n",
    "print(a)"
   ]
  },
  {
   "cell_type": "code",
   "execution_count": 11,
   "id": "forty-programming",
   "metadata": {},
   "outputs": [
    {
     "ename": "SyntaxError",
     "evalue": "invalid syntax (<ipython-input-11-496843f43497>, line 1)",
     "output_type": "error",
     "traceback": [
      "\u001b[0;36m  File \u001b[0;32m\"<ipython-input-11-496843f43497>\"\u001b[0;36m, line \u001b[0;32m1\u001b[0m\n\u001b[0;31m    'Python isn't difficult'\u001b[0m\n\u001b[0m                ^\u001b[0m\n\u001b[0;31mSyntaxError\u001b[0m\u001b[0;31m:\u001b[0m invalid syntax\n"
     ]
    }
   ],
   "source": [
    "'Python isn't difficult' # 작은 따옴표 안에 작은 따옴표"
   ]
  },
  {
   "cell_type": "code",
   "execution_count": 12,
   "id": "bright-surge",
   "metadata": {},
   "outputs": [
    {
     "data": {
      "text/plain": [
       "\"Python isn't difficult\""
      ]
     },
     "execution_count": 12,
     "metadata": {},
     "output_type": "execute_result"
    }
   ],
   "source": [
    "\"Python isn't difficult\" # 큰 따옴표 안에 작은 따옴표"
   ]
  },
  {
   "cell_type": "code",
   "execution_count": 13,
   "id": "pressed-personality",
   "metadata": {},
   "outputs": [
    {
     "data": {
      "text/plain": [
       "\"Python isn't difficult\""
      ]
     },
     "execution_count": 13,
     "metadata": {},
     "output_type": "execute_result"
    }
   ],
   "source": [
    "'Python isn\\'t difficult' # 작은 따옴표 안에 작은 따옴표를 썼지만, \\(이스케이프)를 삽입하여 충돌 방지"
   ]
  },
  {
   "cell_type": "code",
   "execution_count": null,
   "id": "acute-convenience",
   "metadata": {},
   "outputs": [],
   "source": [
    "# ` 억양부호(backtick = backquote = grave accept) 라고 불린다."
   ]
  }
 ],
 "metadata": {
  "kernelspec": {
   "display_name": "Python 3",
   "language": "python",
   "name": "python3"
  },
  "language_info": {
   "codemirror_mode": {
    "name": "ipython",
    "version": 3
   },
   "file_extension": ".py",
   "mimetype": "text/x-python",
   "name": "python",
   "nbconvert_exporter": "python",
   "pygments_lexer": "ipython3",
   "version": "3.7.9"
  }
 },
 "nbformat": 4,
 "nbformat_minor": 5
}
