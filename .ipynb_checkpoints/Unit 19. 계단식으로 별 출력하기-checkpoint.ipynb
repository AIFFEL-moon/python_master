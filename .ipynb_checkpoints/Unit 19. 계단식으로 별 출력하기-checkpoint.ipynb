{
 "cells": [
  {
   "cell_type": "markdown",
   "id": "operating-syria",
   "metadata": {},
   "source": [
    "# 중첩 루프   \n",
    "### 원리"
   ]
  },
  {
   "cell_type": "code",
   "execution_count": 6,
   "id": "concrete-termination",
   "metadata": {},
   "outputs": [
    {
     "name": "stdout",
     "output_type": "stream",
     "text": [
      "j:0 j:1 j:2 j:3 j:4 i:0＼n\n",
      "j:0 j:1 j:2 j:3 j:4 i:1＼n\n",
      "j:0 j:1 j:2 j:3 j:4 i:2＼n\n",
      "j:0 j:1 j:2 j:3 j:4 i:3＼n\n",
      "j:0 j:1 j:2 j:3 j:4 i:4＼n\n"
     ]
    }
   ],
   "source": [
    "for i in range(5):          # 5번 반복. 바깥쪽 루프는 세로 방향\n",
    "    for j in range(5):      # 5번 반복. 안쪽 루프는 가로 방향\n",
    "        print('j:', j, sep='', end=' ')    # j값 출력. end에 ' '를 지정하여 줄바꿈 대신 한 칸 띄움\n",
    "    print('i:', i, '＼n', sep='')    # i값 출력, 개행 문자 모양도 출력\n",
    "                                     # 가로 방향으로 숫자를 모두 출력한 뒤 다음 줄로 넘어감\n",
    "                                     # (print는 기본적으로 출력 후 다음 줄로 넘어감)"
   ]
  },
  {
   "cell_type": "markdown",
   "id": "owned-night",
   "metadata": {},
   "source": [
    "### 사각형 출력"
   ]
  },
  {
   "cell_type": "code",
   "execution_count": 9,
   "id": "waiting-programming",
   "metadata": {},
   "outputs": [
    {
     "name": "stdout",
     "output_type": "stream",
     "text": [
      "*\n",
      "*\n",
      "*\n",
      "*\n",
      "*\n"
     ]
    }
   ],
   "source": [
    "for i in range(5):\n",
    "    print('*')"
   ]
  },
  {
   "cell_type": "code",
   "execution_count": 28,
   "id": "formal-river",
   "metadata": {},
   "outputs": [
    {
     "name": "stdout",
     "output_type": "stream",
     "text": [
      "* * * * * \n",
      "* * * * * \n",
      "* * * * * \n",
      "* * * * * \n",
      "* * * * * "
     ]
    }
   ],
   "source": [
    "for i in range(25):\n",
    "    if i == 0:\n",
    "        pass\n",
    "    elif i % 5 == 0:\n",
    "        print()\n",
    "        \n",
    "    print('*', end=' ')"
   ]
  },
  {
   "cell_type": "code",
   "execution_count": 18,
   "id": "consolidated-fraction",
   "metadata": {},
   "outputs": [
    {
     "name": "stdout",
     "output_type": "stream",
     "text": [
      "* * * * * \n",
      "* * * * * \n",
      "* * * * * \n",
      "* * * * * \n",
      "* * * * * \n"
     ]
    }
   ],
   "source": [
    "for i in range(5): # 5줄이 생김\n",
    "    for j in range(5): # 한 줄에 5개의 별이 찍힘\n",
    "        print('*', end=' ')\n",
    "    print()"
   ]
  },
  {
   "cell_type": "markdown",
   "id": "settled-burden",
   "metadata": {},
   "source": [
    "### 사각형 모양 바꾸기"
   ]
  },
  {
   "cell_type": "code",
   "execution_count": 33,
   "id": "underlying-ethnic",
   "metadata": {},
   "outputs": [
    {
     "name": "stdout",
     "output_type": "stream",
     "text": [
      "* * * * * * * \n",
      "* * * * * * * \n",
      "* * * * * * * \n"
     ]
    }
   ],
   "source": [
    "for i in range(3): # 크게 3번 반복 --> 3줄이 생김\n",
    "    for j in range(7): # 작게 7번 반복 --> 한 줄에 7개의 별이 찍힘\n",
    "        print('*', end=' ')\n",
    "    print()"
   ]
  },
  {
   "cell_type": "markdown",
   "id": "thrown-senegal",
   "metadata": {},
   "source": [
    "### 계단식으로 별 출력하기\n",
    "  - 대각선"
   ]
  },
  {
   "cell_type": "code",
   "execution_count": 69,
   "id": "funny-casting",
   "metadata": {},
   "outputs": [
    {
     "name": "stdout",
     "output_type": "stream",
     "text": [
      "* \n",
      "* \n",
      "* \n",
      "* \n",
      "* \n"
     ]
    }
   ],
   "source": [
    "for i in range(5):\n",
    "    for j in range(5):\n",
    "        if i==j:\n",
    "            print('*', end=' ')\n",
    "        #else:\n",
    "            #print(' ', end=' ') # 로직은 대각선 출력이 맞으나, 공백으로 밀어주지 않으면 1자로 나오게 된다.\n",
    "    \n",
    "    print()"
   ]
  },
  {
   "cell_type": "code",
   "execution_count": 75,
   "id": "collaborative-organization",
   "metadata": {},
   "outputs": [
    {
     "name": "stdout",
     "output_type": "stream",
     "text": [
      "*         \n",
      "  *       \n",
      "    *     \n",
      "      *   \n",
      "        * \n"
     ]
    }
   ],
   "source": [
    "for i in range(5):\n",
    "    for j in range(5):\n",
    "        if i==j:\n",
    "            print('*', end=' ')\n",
    "        else:\n",
    "            print(' ', end=' ')\n",
    "    \n",
    "    print()"
   ]
  },
  {
   "cell_type": "markdown",
   "id": "bound-height",
   "metadata": {},
   "source": [
    "  - 대각선 - 삼각형"
   ]
  },
  {
   "cell_type": "code",
   "execution_count": 78,
   "id": "impressive-blind",
   "metadata": {},
   "outputs": [
    {
     "name": "stdout",
     "output_type": "stream",
     "text": [
      "* \n",
      "* * \n",
      "* * * \n",
      "* * * * \n",
      "* * * * * \n"
     ]
    }
   ],
   "source": [
    "for i in range(5):\n",
    "    for j in range(5):\n",
    "        if i >= j: # 대각선을 기준으로 아래만 출력하기위해서는 반복문 진행시 i값이 커지는 것을 이용한다. (j값은 0~4로 계속 고정이다.)\n",
    "            print('*', end=' ') # i값이 클 때 대각선의 위쪽을 출력\n",
    "        #else:\n",
    "            #print(' ', end=' ') # 사실상 있으나마나한 코드 ==> 역삼각형을 이해하기위해 주석으로 추가해줌\n",
    "        \n",
    "    print()"
   ]
  },
  {
   "cell_type": "markdown",
   "id": "liberal-economics",
   "metadata": {},
   "source": [
    "  - 대각선 - 역삼각형"
   ]
  },
  {
   "cell_type": "code",
   "execution_count": 79,
   "id": "imposed-decade",
   "metadata": {},
   "outputs": [
    {
     "name": "stdout",
     "output_type": "stream",
     "text": [
      "* * * * * \n",
      "  * * * * \n",
      "    * * * \n",
      "      * * \n",
      "        * \n"
     ]
    }
   ],
   "source": [
    "for i in range(5):\n",
    "    for j in range(5):\n",
    "        if i <= j: # 대각선을 기준으로 위만 출력하기위해서는 반복문 진행시 i값이 커지는 것을 이용한다. (j값은 0~4로 계속 고정이다.)\n",
    "            print('*', end=' ') # i값이 작을 때 대각선의 위쪽을 출력\n",
    "        else:\n",
    "            print(' ', end=' ')\n",
    "        \n",
    "    print()"
   ]
  },
  {
   "cell_type": "code",
   "execution_count": 50,
   "id": "celtic-courage",
   "metadata": {},
   "outputs": [
    {
     "name": "stdout",
     "output_type": "stream",
     "text": [
      "        * \n",
      "      *   \n",
      "    *     \n",
      "  *       \n",
      "*         \n"
     ]
    }
   ],
   "source": [
    "for i in range(5):\n",
    "    for j in reversed(range(5)):\n",
    "        if i == j:\n",
    "            print('*', end=' ')\n",
    "        else:\n",
    "            print(' ', end=' ')\n",
    "            \n",
    "    print()"
   ]
  },
  {
   "cell_type": "code",
   "execution_count": 112,
   "id": "broken-perth",
   "metadata": {},
   "outputs": [
    {
     "name": "stdout",
     "output_type": "stream",
     "text": [
      "* * * * * \n",
      "* * * *   \n",
      "* * *     \n",
      "* *       \n",
      "*         \n"
     ]
    }
   ],
   "source": [
    "for i in range(5):\n",
    "    for j in reversed(range(5)):\n",
    "        if i <= j:\n",
    "            print('*', end=' ')\n",
    "        else:\n",
    "            print(' ', end=' ')\n",
    "    print()"
   ]
  },
  {
   "cell_type": "code",
   "execution_count": 49,
   "id": "pharmaceutical-twist",
   "metadata": {},
   "outputs": [
    {
     "name": "stdout",
     "output_type": "stream",
     "text": [
      "        * \n",
      "      * * \n",
      "    * * * \n",
      "  * * * * \n",
      "* * * * * \n"
     ]
    }
   ],
   "source": [
    "for i in range(5):\n",
    "    for j in reversed(range(5)):\n",
    "        if i >= j:\n",
    "            print('*', end=' ')\n",
    "        else:\n",
    "            print(' ', end=' ')\n",
    "            \n",
    "    print()"
   ]
  },
  {
   "cell_type": "code",
   "execution_count": 115,
   "id": "packed-behavior",
   "metadata": {},
   "outputs": [
    {
     "name": "stdout",
     "output_type": "stream",
     "text": [
      "* * * * * \n",
      "* * * * \n",
      "* * * \n",
      "* * \n",
      "* \n"
     ]
    }
   ],
   "source": [
    "# reversed로 작성하지 않고도 가능하다\n",
    "for i in range(5):\n",
    "    for j in range(5):\n",
    "        if i <= j: # 위만 출력하기위해서는 반복문이 진행되면서 i값이 커지는 것을 이용한다. (j값은 0~4로 계속 고정이다.)\n",
    "            print('*', end=' ') # i값이 작을 때 '*'을 찍어야한다.\n",
    "    print()"
   ]
  },
  {
   "cell_type": "code",
   "execution_count": 114,
   "id": "hundred-andrews",
   "metadata": {},
   "outputs": [
    {
     "name": "stdout",
     "output_type": "stream",
     "text": [
      "* * * * * \n",
      "  * * * * \n",
      "    * * * \n",
      "      * * \n",
      "        * \n"
     ]
    }
   ],
   "source": [
    "# 위의 코드와 비교하기 위해 작성\n",
    "for i in range(5):\n",
    "    for j in range(5):\n",
    "        if i <= j: # 위만 출력하기위해서는 반복문이 진행되면서 i값이 커지는 것을 이용한다. (j값은 0~4로 계속 고정이다.)\n",
    "            print('*', end=' ') # i값이 작을 때 '*'을 찍어야한다.\n",
    "        else:\n",
    "            print(' ', end=' ')\n",
    "    print()"
   ]
  },
  {
   "cell_type": "markdown",
   "id": "extensive-chemical",
   "metadata": {},
   "source": [
    "### 산 모양 만들기"
   ]
  },
  {
   "cell_type": "code",
   "execution_count": 105,
   "id": "normal-police",
   "metadata": {},
   "outputs": [
    {
     "name": "stdout",
     "output_type": "stream",
     "text": [
      "5\n",
      "        * \n",
      "      * * \n",
      "    * * * \n",
      "  * * * * \n",
      "* * * * * \n"
     ]
    }
   ],
   "source": [
    "# 산의 왼쪽 부분\n",
    "row = int(input())\n",
    "\n",
    "for i in range(row):\n",
    "    for j in reversed(range(row)):\n",
    "        if i >= j:\n",
    "            print('*', end=' ')\n",
    "        else:\n",
    "            print(' ', end=' ')\n",
    "    \n",
    "    \n",
    "    print()"
   ]
  },
  {
   "cell_type": "code",
   "execution_count": 106,
   "id": "apparent-scene",
   "metadata": {},
   "outputs": [
    {
     "name": "stdout",
     "output_type": "stream",
     "text": [
      "5\n",
      "\n",
      "@ \n",
      "@ @ \n",
      "@ @ @ \n",
      "@ @ @ @ \n"
     ]
    }
   ],
   "source": [
    "# 산의 오른쪽 부분\n",
    "\n",
    "row = int(input())\n",
    "\n",
    "for i in range(row):\n",
    "    for j in range(row):\n",
    "        if i > j:\n",
    "            print('@', end=' ')\n",
    "            \n",
    "    print()"
   ]
  },
  {
   "cell_type": "code",
   "execution_count": 116,
   "id": "quarterly-taste",
   "metadata": {},
   "outputs": [
    {
     "name": "stdout",
     "output_type": "stream",
     "text": [
      "5\n",
      "        * \n",
      "      * * @ \n",
      "    * * * @ @ \n",
      "  * * * * @ @ @ \n",
      "* * * * * @ @ @ @ \n"
     ]
    }
   ],
   "source": [
    "# 산의 왼쪽 부분과 오른쪽 부분을 합쳤다.\n",
    "row = int(input())\n",
    "\n",
    "for i in range(row):\n",
    "    for j in reversed(range(row)):\n",
    "        if i >= j:\n",
    "            print('*', end=' ')\n",
    "        else:\n",
    "            print(' ', end=' ')\n",
    "    \n",
    "    for k in range(row):\n",
    "        if i > k:\n",
    "            print('@', end=' ')\n",
    "    \n",
    "    print()"
   ]
  },
  {
   "cell_type": "markdown",
   "id": "personal-chrome",
   "metadata": {},
   "source": [
    "### ☆★☆ 그냥 만들어본 연습문제 : 구구단 ☆★☆"
   ]
  },
  {
   "cell_type": "markdown",
   "id": "tired-satisfaction",
   "metadata": {},
   "source": [
    "1. 가로로 구구단 출력하기 문제\n",
    "\n",
    "1  ×  1  =  1&nbsp;&nbsp;&nbsp;&nbsp;&nbsp;&nbsp;1  ×  2  =  2&nbsp;&nbsp;&nbsp;&nbsp;&nbsp;&nbsp;1  ×  3  =  3&nbsp;&nbsp;&nbsp;&nbsp;&nbsp;&nbsp;1  ×  4  =  4\t\t\n",
    "2  ×  1  =  2&nbsp;&nbsp;&nbsp;&nbsp;&nbsp;&nbsp;2  ×  2  =  4&nbsp;&nbsp;&nbsp;&nbsp;&nbsp;&nbsp;2  ×  3  =  6&nbsp;&nbsp;&nbsp;&nbsp;&nbsp;&nbsp;2  ×  4  =  8\t\t\n",
    "3  ×  1  =  3&nbsp;&nbsp;&nbsp;&nbsp;&nbsp;&nbsp;3  ×  2  =  6&nbsp;&nbsp;&nbsp;&nbsp;&nbsp;&nbsp;3  ×  3  =  9&nbsp;&nbsp;&nbsp;&nbsp;&nbsp;&nbsp;3  ×  4  =  12\t\t\n",
    "4  ×  1  =  4&nbsp;&nbsp;&nbsp;&nbsp;&nbsp;&nbsp;4  ×  2  =  8&nbsp;&nbsp;&nbsp;&nbsp;&nbsp;&nbsp;4  ×  3  =  12&nbsp;&nbsp;&nbsp;&nbsp;&nbsp;&nbsp;4  ×  4  =  16\t\t\n",
    "5  ×  1  =  5&nbsp;&nbsp;&nbsp;&nbsp;&nbsp;&nbsp;5  ×  2  =  10&nbsp;&nbsp;&nbsp;&nbsp;&nbsp;&nbsp;5  ×  3  =  15&nbsp;&nbsp;&nbsp;&nbsp;&nbsp;&nbsp;5  ×  4  =  20\t\t\n",
    "6  ×  1  =  6&nbsp;&nbsp;&nbsp;&nbsp;&nbsp;&nbsp;6  ×  2  =  12&nbsp;&nbsp;&nbsp;&nbsp;&nbsp;&nbsp;6  ×  3  =  18&nbsp;&nbsp;&nbsp;&nbsp;&nbsp;&nbsp;6  ×  4  =  24\t\t\n",
    "7  ×  1  =  7&nbsp;&nbsp;&nbsp;&nbsp;&nbsp;&nbsp;7  ×  2  =  14&nbsp;&nbsp;&nbsp;&nbsp;&nbsp;&nbsp;7  ×  3  =  21&nbsp;&nbsp;&nbsp;&nbsp;&nbsp;&nbsp;7  ×  4  =  28\t\t\n",
    "8  ×  1  =  8&nbsp;&nbsp;&nbsp;&nbsp;&nbsp;&nbsp;8  ×  2  =  16&nbsp;&nbsp;&nbsp;&nbsp;&nbsp;&nbsp;8  ×  3  =  24&nbsp;&nbsp;&nbsp;&nbsp;&nbsp;&nbsp;8  ×  4  =  32\t\t\n",
    "9  ×  1  =  9&nbsp;&nbsp;&nbsp;&nbsp;&nbsp;&nbsp;9  ×  2  =  18&nbsp;&nbsp;&nbsp;&nbsp;&nbsp;&nbsp;9  ×  3  =  27&nbsp;&nbsp;&nbsp;&nbsp;&nbsp;&nbsp;9  ×  4  =  36"
   ]
  },
  {
   "cell_type": "markdown",
   "id": "czech-compatibility",
   "metadata": {},
   "source": [
    "2. 세로로 구구단 출력하기 문제\n",
    "\n",
    "1  ×  1  =  1&nbsp;&nbsp;&nbsp;&nbsp;&nbsp;&nbsp;2  ×  1  =  2&nbsp;&nbsp;&nbsp;&nbsp;&nbsp;&nbsp;3  ×  1  =  3\t&nbsp;&nbsp;&nbsp;&nbsp;&nbsp;&nbsp;4  ×  1  =  4\t\t\n",
    "1  ×  2  =  2&nbsp;&nbsp;&nbsp;&nbsp;&nbsp;&nbsp;2  ×  2  =  4&nbsp;&nbsp;&nbsp;&nbsp;&nbsp;&nbsp;3  ×  2  =  6\t&nbsp;&nbsp;&nbsp;&nbsp;&nbsp;&nbsp;4  ×  2  =  8\t\t\n",
    "1  ×  3  =  3&nbsp;&nbsp;&nbsp;&nbsp;&nbsp;&nbsp;2  ×  3  =  6&nbsp;&nbsp;&nbsp;&nbsp;&nbsp;&nbsp;3  ×  3  =  9&nbsp;&nbsp;&nbsp;&nbsp;&nbsp;&nbsp;4  ×  3  =  12\t\t\n",
    "1  ×  4  =  4&nbsp;&nbsp;&nbsp;&nbsp;&nbsp;&nbsp;2  ×  4  =  8&nbsp;&nbsp;&nbsp;&nbsp;&nbsp;&nbsp;3  ×  4  =  12&nbsp;&nbsp;&nbsp;&nbsp;&nbsp;&nbsp;4  ×  4  =  16\t\t\n",
    "1  ×  5  =  5&nbsp;&nbsp;&nbsp;&nbsp;&nbsp;&nbsp;2  ×  5  =  10\t&nbsp;&nbsp;&nbsp;&nbsp;&nbsp;&nbsp;3  ×  5  =  15&nbsp;&nbsp;&nbsp;&nbsp;&nbsp;&nbsp;4  ×  5  =  20\t\t\n",
    "1  ×  6  =  6&nbsp;&nbsp;&nbsp;&nbsp;&nbsp;&nbsp;2  ×  6  =  12&nbsp;&nbsp;&nbsp;&nbsp;&nbsp;&nbsp;3  ×  6  =  18&nbsp;&nbsp;&nbsp;&nbsp;&nbsp;&nbsp;4  ×  6  =  24\t\t\n",
    "1  ×  7  =  7&nbsp;&nbsp;&nbsp;&nbsp;&nbsp;&nbsp;2  ×  7  =  14&nbsp;&nbsp;&nbsp;&nbsp;&nbsp;&nbsp;3  ×  7  =  21&nbsp;&nbsp;&nbsp;&nbsp;&nbsp;&nbsp;4  ×  7  =  28\t\t\n",
    "1  ×  8  =  8&nbsp;&nbsp;&nbsp;&nbsp;&nbsp;&nbsp;2  ×  8  =  16&nbsp;&nbsp;&nbsp;&nbsp;&nbsp;&nbsp;3  ×  8  =  24&nbsp;&nbsp;&nbsp;&nbsp;&nbsp;&nbsp;4  ×  8  =  32\t\t\n",
    "1  ×  9  =  9&nbsp;&nbsp;&nbsp;&nbsp;&nbsp;&nbsp;2  ×  9  =  18&nbsp;&nbsp;&nbsp;&nbsp;&nbsp;&nbsp;3  ×  9  =  27&nbsp;&nbsp;&nbsp;&nbsp;&nbsp;&nbsp;4  ×  9  =  36\t"
   ]
  },
  {
   "cell_type": "markdown",
   "id": "infinite-growing",
   "metadata": {},
   "source": [
    "### ☆★☆ 그냥 만들어본 연습문제 : 구구단(해답) ☆★☆"
   ]
  },
  {
   "cell_type": "markdown",
   "id": "aerial-explorer",
   "metadata": {},
   "source": [
    "  1. 가로로 구구단 출력하기"
   ]
  },
  {
   "cell_type": "code",
   "execution_count": 103,
   "id": "willing-miami",
   "metadata": {},
   "outputs": [
    {
     "name": "stdout",
     "output_type": "stream",
     "text": [
      "9\n",
      "\n",
      "1  ×  1  =  1\t\t1  ×  2  =  2\t\t1  ×  3  =  3\t\t1  ×  4  =  4\t\t\n",
      "2  ×  1  =  2\t\t2  ×  2  =  4\t\t2  ×  3  =  6\t\t2  ×  4  =  8\t\t\n",
      "3  ×  1  =  3\t\t3  ×  2  =  6\t\t3  ×  3  =  9\t\t3  ×  4  =  12\t\t\n",
      "4  ×  1  =  4\t\t4  ×  2  =  8\t\t4  ×  3  =  12\t\t4  ×  4  =  16\t\t\n",
      "5  ×  1  =  5\t\t5  ×  2  =  10\t\t5  ×  3  =  15\t\t5  ×  4  =  20\t\t\n",
      "6  ×  1  =  6\t\t6  ×  2  =  12\t\t6  ×  3  =  18\t\t6  ×  4  =  24\t\t\n",
      "7  ×  1  =  7\t\t7  ×  2  =  14\t\t7  ×  3  =  21\t\t7  ×  4  =  28\t\t\n",
      "8  ×  1  =  8\t\t8  ×  2  =  16\t\t8  ×  3  =  24\t\t8  ×  4  =  32\t\t\n",
      "9  ×  1  =  9\t\t9  ×  2  =  18\t\t9  ×  3  =  27\t\t9  ×  4  =  36\t\t\n"
     ]
    }
   ],
   "source": [
    "gugudan = int(input())\n",
    "print()\n",
    "\n",
    "for i in range(1, gugudan+1):\n",
    "    for j in range(1, 5):\n",
    "        print(i, ' × ', j, ' = ', (i*j), end='\\t\\t')\n",
    "    print()"
   ]
  },
  {
   "cell_type": "markdown",
   "id": "dangerous-traveler",
   "metadata": {},
   "source": [
    "  2. 세로로 구구단 출력하기"
   ]
  },
  {
   "cell_type": "code",
   "execution_count": 104,
   "id": "little-inspector",
   "metadata": {},
   "outputs": [
    {
     "name": "stdout",
     "output_type": "stream",
     "text": [
      "9\n",
      "\n",
      "1  ×  1  =  1\t\t2  ×  1  =  2\t\t3  ×  1  =  3\t\t4  ×  1  =  4\t\t\n",
      "1  ×  2  =  2\t\t2  ×  2  =  4\t\t3  ×  2  =  6\t\t4  ×  2  =  8\t\t\n",
      "1  ×  3  =  3\t\t2  ×  3  =  6\t\t3  ×  3  =  9\t\t4  ×  3  =  12\t\t\n",
      "1  ×  4  =  4\t\t2  ×  4  =  8\t\t3  ×  4  =  12\t\t4  ×  4  =  16\t\t\n",
      "1  ×  5  =  5\t\t2  ×  5  =  10\t\t3  ×  5  =  15\t\t4  ×  5  =  20\t\t\n",
      "1  ×  6  =  6\t\t2  ×  6  =  12\t\t3  ×  6  =  18\t\t4  ×  6  =  24\t\t\n",
      "1  ×  7  =  7\t\t2  ×  7  =  14\t\t3  ×  7  =  21\t\t4  ×  7  =  28\t\t\n",
      "1  ×  8  =  8\t\t2  ×  8  =  16\t\t3  ×  8  =  24\t\t4  ×  8  =  32\t\t\n",
      "1  ×  9  =  9\t\t2  ×  9  =  18\t\t3  ×  9  =  27\t\t4  ×  9  =  36\t\t\n"
     ]
    }
   ],
   "source": [
    "gugudan = int(input())\n",
    "print()\n",
    "\n",
    "for i in range(1, gugudan+1):\n",
    "    for j in range(1, 5):\n",
    "        print(j, ' × ', i, ' = ', (j*i), end='\\t\\t')\n",
    "    print()"
   ]
  },
  {
   "cell_type": "code",
   "execution_count": null,
   "id": "fuzzy-personality",
   "metadata": {},
   "outputs": [],
   "source": []
  }
 ],
 "metadata": {
  "kernelspec": {
   "display_name": "Python 3",
   "language": "python",
   "name": "python3"
  },
  "language_info": {
   "codemirror_mode": {
    "name": "ipython",
    "version": 3
   },
   "file_extension": ".py",
   "mimetype": "text/x-python",
   "name": "python",
   "nbconvert_exporter": "python",
   "pygments_lexer": "ipython3",
   "version": "3.7.9"
  }
 },
 "nbformat": 4,
 "nbformat_minor": 5
}
