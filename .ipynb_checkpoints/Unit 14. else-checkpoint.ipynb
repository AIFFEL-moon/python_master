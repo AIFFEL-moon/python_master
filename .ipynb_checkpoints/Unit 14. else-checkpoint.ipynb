{
 "cells": [
  {
   "cell_type": "markdown",
   "id": "configured-particular",
   "metadata": {},
   "source": [
    "# else"
   ]
  },
  {
   "cell_type": "markdown",
   "id": "rough-wichita",
   "metadata": {},
   "source": [
    "if 비가 오는가:   \n",
    "&nbsp;&nbsp;&nbsp;&nbsp;우산을 쓴다.   \n",
    "else:   \n",
    "&nbsp;&nbsp;&nbsp;&nbsp;우산을 쓰지 않는다."
   ]
  },
  {
   "cell_type": "code",
   "execution_count": 1,
   "id": "numerical-roommate",
   "metadata": {},
   "outputs": [
    {
     "name": "stdout",
     "output_type": "stream",
     "text": [
      "10이 아닙니다.\n"
     ]
    }
   ],
   "source": [
    "x = 5\n",
    "if x == 10:\n",
    "    print('10입니다.')\n",
    "else:\n",
    "    print('10이 아닙니다.')"
   ]
  },
  {
   "cell_type": "code",
   "execution_count": 2,
   "id": "important-nigeria",
   "metadata": {},
   "outputs": [
    {
     "data": {
      "text/plain": [
       "'unluck'"
      ]
     },
     "execution_count": 2,
     "metadata": {},
     "output_type": "execute_result"
    }
   ],
   "source": [
    "if x == 10:\n",
    "    y = 'luck'\n",
    "else:\n",
    "    y = 'unluck'\n",
    "y"
   ]
  },
  {
   "cell_type": "markdown",
   "id": "spare-trance",
   "metadata": {},
   "source": [
    "### 변수 = 값 if 조건문 else 값"
   ]
  },
  {
   "cell_type": "code",
   "execution_count": 7,
   "id": "architectural-river",
   "metadata": {},
   "outputs": [
    {
     "data": {
      "text/plain": [
       "'???'"
      ]
     },
     "execution_count": 7,
     "metadata": {},
     "output_type": "execute_result"
    }
   ],
   "source": [
    "a = 100\n",
    "# b = a if a == 100 else '???' # b = 100\n",
    "b = a if a == 10 else '???'\n",
    "b"
   ]
  },
  {
   "cell_type": "code",
   "execution_count": 8,
   "id": "prepared-defendant",
   "metadata": {},
   "outputs": [
    {
     "ename": "IndentationError",
     "evalue": "expected an indented block (<ipython-input-8-3acef35518a7>, line 5)",
     "output_type": "error",
     "traceback": [
      "\u001b[0;36m  File \u001b[0;32m\"<ipython-input-8-3acef35518a7>\"\u001b[0;36m, line \u001b[0;32m5\u001b[0m\n\u001b[0;31m    print(z)\u001b[0m\n\u001b[0m        ^\u001b[0m\n\u001b[0;31mIndentationError\u001b[0m\u001b[0;31m:\u001b[0m expected an indented block\n"
     ]
    }
   ],
   "source": [
    "z = 999\n",
    "if z == 0:\n",
    "    print(z)\n",
    "else:\n",
    "print(z)\n",
    "    print('luck')"
   ]
  },
  {
   "cell_type": "code",
   "execution_count": 9,
   "id": "simple-request",
   "metadata": {},
   "outputs": [
    {
     "name": "stdout",
     "output_type": "stream",
     "text": [
      "999\n",
      "luck\n"
     ]
    }
   ],
   "source": [
    "z = 999\n",
    "if z == 0:\n",
    "    print(z)\n",
    "else:\n",
    "    print(z)\n",
    "    print('luck')"
   ]
  },
  {
   "cell_type": "code",
   "execution_count": 10,
   "id": "executed-refrigerator",
   "metadata": {},
   "outputs": [
    {
     "name": "stdout",
     "output_type": "stream",
     "text": [
      "999입니다.\n",
      "999가 아닙니다.\n"
     ]
    }
   ],
   "source": [
    "z = 999\n",
    "if z == 999:\n",
    "    print('999입니다.')\n",
    "else:\n",
    "    print('x에 들어있는 숫자는')\n",
    "print('999가 아닙니다.') # 들여쓰기 차이"
   ]
  },
  {
   "cell_type": "code",
   "execution_count": null,
   "id": "intense-prediction",
   "metadata": {},
   "outputs": [],
   "source": []
  }
 ],
 "metadata": {
  "kernelspec": {
   "display_name": "Python 3",
   "language": "python",
   "name": "python3"
  },
  "language_info": {
   "codemirror_mode": {
    "name": "ipython",
    "version": 3
   },
   "file_extension": ".py",
   "mimetype": "text/x-python",
   "name": "python",
   "nbconvert_exporter": "python",
   "pygments_lexer": "ipython3",
   "version": "3.7.9"
  }
 },
 "nbformat": 4,
 "nbformat_minor": 5
}
