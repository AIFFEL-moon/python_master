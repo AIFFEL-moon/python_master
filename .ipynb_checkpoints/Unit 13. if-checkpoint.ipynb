{
 "cells": [
  {
   "cell_type": "markdown",
   "id": "subject-convenience",
   "metadata": {},
   "source": [
    "# if"
   ]
  },
  {
   "cell_type": "markdown",
   "id": "hindu-concentration",
   "metadata": {},
   "source": [
    "### 의사 코드(pseudo code)"
   ]
  },
  {
   "cell_type": "markdown",
   "id": "prerequisite-wound",
   "metadata": {},
   "source": [
    "if 비가 오면:   \n",
    "&nbsp;&nbsp;&nbsp;&nbsp;우산을 써야한다."
   ]
  },
  {
   "cell_type": "markdown",
   "id": "digital-benchmark",
   "metadata": {},
   "source": [
    "### if문"
   ]
  },
  {
   "cell_type": "markdown",
   "id": "boolean-silence",
   "metadata": {},
   "source": [
    "if 조건식:   \n",
    "&nbsp;&nbsp;&nbsp;&nbsp;코드"
   ]
  },
  {
   "cell_type": "code",
   "execution_count": 4,
   "id": "characteristic-snapshot",
   "metadata": {},
   "outputs": [],
   "source": [
    "a = 10"
   ]
  },
  {
   "cell_type": "code",
   "execution_count": 5,
   "id": "regulated-winter",
   "metadata": {},
   "outputs": [
    {
     "ename": "IndentationError",
     "evalue": "expected an indented block (<ipython-input-5-ba4790d98bb0>, line 2)",
     "output_type": "error",
     "traceback": [
      "\u001b[0;36m  File \u001b[0;32m\"<ipython-input-5-ba4790d98bb0>\"\u001b[0;36m, line \u001b[0;32m2\u001b[0m\n\u001b[0;31m    print(a)\u001b[0m\n\u001b[0m        ^\u001b[0m\n\u001b[0;31mIndentationError\u001b[0m\u001b[0;31m:\u001b[0m expected an indented block\n"
     ]
    }
   ],
   "source": [
    "# 띄어쓰기 안한 경우\n",
    "if a == 10:\n",
    "print(a)"
   ]
  },
  {
   "cell_type": "code",
   "execution_count": 7,
   "id": "animated-customer",
   "metadata": {},
   "outputs": [
    {
     "name": "stdout",
     "output_type": "stream",
     "text": [
      "10\n"
     ]
    }
   ],
   "source": [
    "# 띄어쓰기 해야한다. --> 파이썬 코딩 스타일 가이드에서는 space(공백) 4번으로 규정\n",
    "if a == 10:\n",
    "    print(a)"
   ]
  },
  {
   "cell_type": "code",
   "execution_count": 8,
   "id": "recent-visibility",
   "metadata": {},
   "outputs": [],
   "source": [
    "if a != 10:\n",
    "    pass # TODO : a가 10이 아닐 경우 처리부분"
   ]
  },
  {
   "cell_type": "code",
   "execution_count": 10,
   "id": "entitled-bride",
   "metadata": {},
   "outputs": [],
   "source": [
    "if a != 10:\n",
    "    print(a)\n",
    "    print('Hello')"
   ]
  },
  {
   "cell_type": "code",
   "execution_count": 18,
   "id": "theoretical-ceiling",
   "metadata": {},
   "outputs": [
    {
     "ename": "IndentationError",
     "evalue": "unexpected indent (<ipython-input-18-2e136294ecad>, line 3)",
     "output_type": "error",
     "traceback": [
      "\u001b[0;36m  File \u001b[0;32m\"<ipython-input-18-2e136294ecad>\"\u001b[0;36m, line \u001b[0;32m3\u001b[0m\n\u001b[0;31m    print('Hello')\u001b[0m\n\u001b[0m    ^\u001b[0m\n\u001b[0;31mIndentationError\u001b[0m\u001b[0;31m:\u001b[0m unexpected indent\n"
     ]
    }
   ],
   "source": [
    "if a != 10:\n",
    "    print(a)\n",
    "        print('Hello')"
   ]
  },
  {
   "cell_type": "code",
   "execution_count": 11,
   "id": "aging-extent",
   "metadata": {},
   "outputs": [
    {
     "name": "stdout",
     "output_type": "stream",
     "text": [
      "Hello\n"
     ]
    }
   ],
   "source": [
    "if a != 10:\n",
    "    print(a)\n",
    "print('Hello')"
   ]
  },
  {
   "cell_type": "code",
   "execution_count": 16,
   "id": "abroad-sacramento",
   "metadata": {},
   "outputs": [
    {
     "name": "stdout",
     "output_type": "stream",
     "text": [
      "10 이상입니다.\n"
     ]
    }
   ],
   "source": [
    "if a >= 10:\n",
    "    print('10 이상입니다.')\n",
    "    \n",
    "    if a >= 15:\n",
    "        print('15 이상입니다')\n",
    "        \n",
    "        if a >= 5:\n",
    "            print('5 이상입니다.')"
   ]
  },
  {
   "cell_type": "code",
   "execution_count": 17,
   "id": "entertaining-foundation",
   "metadata": {},
   "outputs": [
    {
     "name": "stdout",
     "output_type": "stream",
     "text": [
      "10 이상입니다.\n",
      "5 이상입니다.\n"
     ]
    }
   ],
   "source": [
    "if a >= 10:\n",
    "    print('10 이상입니다.')\n",
    "    \n",
    "if a >= 15:\n",
    "    print('15 이상입니다')\n",
    "        \n",
    "if a >= 5:\n",
    "    print('5 이상입니다.')"
   ]
  },
  {
   "cell_type": "code",
   "execution_count": 20,
   "id": "unauthorized-helping",
   "metadata": {},
   "outputs": [
    {
     "ename": "SyntaxError",
     "evalue": "invalid syntax (<ipython-input-20-f943bd09b77b>, line 2)",
     "output_type": "error",
     "traceback": [
      "\u001b[0;36m  File \u001b[0;32m\"<ipython-input-20-f943bd09b77b>\"\u001b[0;36m, line \u001b[0;32m2\u001b[0m\n\u001b[0;31m    if (x == 10)\u001b[0m\n\u001b[0m                ^\u001b[0m\n\u001b[0;31mSyntaxError\u001b[0m\u001b[0;31m:\u001b[0m invalid syntax\n"
     ]
    }
   ],
   "source": [
    "x = 10\n",
    "if (x == 10)\n",
    "    print('10입니다.')"
   ]
  },
  {
   "cell_type": "code",
   "execution_count": 23,
   "id": "false-orbit",
   "metadata": {},
   "outputs": [
    {
     "name": "stdout",
     "output_type": "stream",
     "text": [
      "27000\n",
      "Cash5000\n",
      "22000\n"
     ]
    }
   ],
   "source": [
    "price = int(input())\n",
    "coupon = input()\n",
    "\n",
    "if coupon == 'Cash3000':\n",
    "    price -= 3000\n",
    "\n",
    "if coupon == 'Cash5000':\n",
    "    price -= 5000\n",
    "    \n",
    "print(price)"
   ]
  },
  {
   "cell_type": "code",
   "execution_count": 22,
   "id": "saved-assignment",
   "metadata": {},
   "outputs": [
    {
     "name": "stdout",
     "output_type": "stream",
     "text": [
      "27000\n",
      "CASH3000\n",
      "24000\n"
     ]
    }
   ],
   "source": [
    "price = int(input())\n",
    "coupon = input()\n",
    "coupon = int(coupon[4:])\n",
    "\n",
    "print(price - coupon)"
   ]
  },
  {
   "cell_type": "code",
   "execution_count": null,
   "id": "chemical-albany",
   "metadata": {},
   "outputs": [],
   "source": []
  }
 ],
 "metadata": {
  "kernelspec": {
   "display_name": "Python 3",
   "language": "python",
   "name": "python3"
  },
  "language_info": {
   "codemirror_mode": {
    "name": "ipython",
    "version": 3
   },
   "file_extension": ".py",
   "mimetype": "text/x-python",
   "name": "python",
   "nbconvert_exporter": "python",
   "pygments_lexer": "ipython3",
   "version": "3.7.9"
  }
 },
 "nbformat": 4,
 "nbformat_minor": 5
}
