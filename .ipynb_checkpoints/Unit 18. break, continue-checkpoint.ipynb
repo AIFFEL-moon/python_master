{
 "cells": [
  {
   "cell_type": "markdown",
   "id": "sized-inspection",
   "metadata": {},
   "source": [
    "# break, continue\n",
    "  - break: 제어흐름 중단\n",
    "  - continue: 제어흐름 유지, 코드 실행만 건너뜀   \n",
    "\n",
    "∴ 반복문 제어"
   ]
  },
  {
   "cell_type": "markdown",
   "id": "periodic-alberta",
   "metadata": {},
   "source": [
    "### break"
   ]
  },
  {
   "cell_type": "code",
   "execution_count": 1,
   "id": "third-provision",
   "metadata": {},
   "outputs": [
    {
     "name": "stdout",
     "output_type": "stream",
     "text": [
      "0 1 2 "
     ]
    }
   ],
   "source": [
    "a = 0\n",
    "\n",
    "while True:\n",
    "    print(a, end=' ')\n",
    "    a += 1\n",
    "    \n",
    "    if a == 3:\n",
    "        break"
   ]
  },
  {
   "cell_type": "code",
   "execution_count": 2,
   "id": "searching-distributor",
   "metadata": {},
   "outputs": [
    {
     "name": "stdout",
     "output_type": "stream",
     "text": [
      "0 1 2 3 "
     ]
    }
   ],
   "source": [
    "for i in range(1000):\n",
    "    print(i, end=' ')\n",
    "    if i == 3:\n",
    "        break"
   ]
  },
  {
   "cell_type": "markdown",
   "id": "otherwise-appraisal",
   "metadata": {},
   "source": [
    "### continue"
   ]
  },
  {
   "cell_type": "code",
   "execution_count": 4,
   "id": "prescribed-divorce",
   "metadata": {},
   "outputs": [
    {
     "name": "stdout",
     "output_type": "stream",
     "text": [
      "1 3 5 7 9 11 13 15 17 19 21 23 25 27 29 31 33 35 37 39 41 43 45 47 49 "
     ]
    }
   ],
   "source": [
    "for i in range(50):\n",
    "    if i % 2 == 0: # 짝수일 경우\n",
    "        continue # 아래 코드를 실행하지 않고 건너뜀\n",
    "        \n",
    "    print(i, end=' ')"
   ]
  },
  {
   "cell_type": "code",
   "execution_count": 6,
   "id": "grateful-section",
   "metadata": {},
   "outputs": [
    {
     "name": "stdout",
     "output_type": "stream",
     "text": [
      "2 4 6 8 "
     ]
    }
   ],
   "source": [
    "b = 0\n",
    "\n",
    "while b < 9:\n",
    "    b += 1\n",
    "    \n",
    "    if b % 2 == 1: # 홀수일 경우\n",
    "        continue # 아래 코드를 실행하지 않음\n",
    "        \n",
    "    print(b, end=' ')"
   ]
  },
  {
   "cell_type": "markdown",
   "id": "trained-execution",
   "metadata": {},
   "source": [
    "### pass"
   ]
  },
  {
   "cell_type": "code",
   "execution_count": 7,
   "id": "static-cruise",
   "metadata": {},
   "outputs": [],
   "source": [
    "for i in range(10):\n",
    "    pass"
   ]
  },
  {
   "cell_type": "code",
   "execution_count": 9,
   "id": "environmental-psychology",
   "metadata": {},
   "outputs": [],
   "source": [
    "x = 0\n",
    "\n",
    "while x < 5:\n",
    "    x += 1\n",
    "    pass"
   ]
  },
  {
   "cell_type": "markdown",
   "id": "divided-audio",
   "metadata": {},
   "source": [
    "### 입력한 만큼 반복하기"
   ]
  },
  {
   "cell_type": "code",
   "execution_count": 13,
   "id": "mathematical-valley",
   "metadata": {},
   "outputs": [
    {
     "name": "stdout",
     "output_type": "stream",
     "text": [
      "숫자를 입력하세요. : 9\n",
      "0 1 2 3 4 5 6 7 8 "
     ]
    }
   ],
   "source": [
    "z = int(input('숫자를 입력하세요. : '))\n",
    "\n",
    "for i in range(z): # 입력한 만큼 반복 ==> range(z)\n",
    "    print(i, end=' ')"
   ]
  },
  {
   "cell_type": "code",
   "execution_count": 16,
   "id": "declared-proof",
   "metadata": {},
   "outputs": [
    {
     "name": "stdout",
     "output_type": "stream",
     "text": [
      "숫자를 입력하세요. : 3\n",
      "1 2 3 "
     ]
    }
   ],
   "source": [
    "i = 0\n",
    "z = int(input('숫자를 입력하세요. : '))\n",
    "\n",
    "while True:\n",
    "    i += 1\n",
    "    print(i, end=' ')\n",
    "    \n",
    "    if i == z:\n",
    "        break"
   ]
  },
  {
   "cell_type": "markdown",
   "id": "descending-chuck",
   "metadata": {},
   "source": [
    "### 입력한 숫자 만큼 반복하기"
   ]
  },
  {
   "cell_type": "code",
   "execution_count": 14,
   "id": "based-termination",
   "metadata": {},
   "outputs": [
    {
     "name": "stdout",
     "output_type": "stream",
     "text": [
      "숫자를 입력하세요. : 10\n",
      "0 1 2 3 4 5 6 7 8 9 10 "
     ]
    }
   ],
   "source": [
    "z = int(input('숫자를 입력하세요. : '))\n",
    "\n",
    "for i in range(z+1): # 입력한 숫자까지 반복 ==> range(z+1)\n",
    "    print(i, end=' ')"
   ]
  },
  {
   "cell_type": "code",
   "execution_count": 20,
   "id": "electric-defeat",
   "metadata": {},
   "outputs": [
    {
     "name": "stdout",
     "output_type": "stream",
     "text": [
      "숫자를 입력하세요. : 5\n",
      "0 1 2 3 4 5 "
     ]
    }
   ],
   "source": [
    "i = 0\n",
    "z = int(input('숫자를 입력하세요. : '))\n",
    "\n",
    "while i <= z:\n",
    "    print(i, end=' ')\n",
    "    i += 1"
   ]
  },
  {
   "cell_type": "code",
   "execution_count": 27,
   "id": "promising-judgment",
   "metadata": {},
   "outputs": [
    {
     "name": "stdout",
     "output_type": "stream",
     "text": [
      "1 50\n",
      "1 2 4 5 6 7 8 9 10 11 12 14 15 16 17 18 19 20 21 22 24 25 26 27 28 29 30 31 32 34 35 36 37 38 39 40 41 42 44 45 46 47 48 49 "
     ]
    }
   ],
   "source": [
    "start, stop = map(int, input().split())\n",
    "\n",
    "i = start\n",
    "\n",
    "while True:\n",
    "    if i == stop:\n",
    "        break\n",
    "    \n",
    "    if i % 10 == 3:\n",
    "        i += 1\n",
    "        continue\n",
    "        \n",
    "    print(i, end=' ')\n",
    "    i += 1"
   ]
  },
  {
   "cell_type": "code",
   "execution_count": null,
   "id": "racial-philip",
   "metadata": {},
   "outputs": [],
   "source": []
  }
 ],
 "metadata": {
  "kernelspec": {
   "display_name": "Python 3",
   "language": "python",
   "name": "python3"
  },
  "language_info": {
   "codemirror_mode": {
    "name": "ipython",
    "version": 3
   },
   "file_extension": ".py",
   "mimetype": "text/x-python",
   "name": "python",
   "nbconvert_exporter": "python",
   "pygments_lexer": "ipython3",
   "version": "3.7.9"
  }
 },
 "nbformat": 4,
 "nbformat_minor": 5
}
