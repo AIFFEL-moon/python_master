{
 "cells": [
  {
   "cell_type": "code",
   "execution_count": 1,
   "id": "horizontal-insider",
   "metadata": {},
   "outputs": [
    {
     "data": {
      "text/plain": [
       "2"
      ]
     },
     "execution_count": 1,
     "metadata": {},
     "output_type": "execute_result"
    }
   ],
   "source": [
    "# 파이썬에서의 숫자\n",
    "# 정수, 실수, 복소수(허수)\n",
    "# int, float, complex\n",
    "# 2, 2.0, i²= -1\n",
    "\n",
    "1+1"
   ]
  },
  {
   "cell_type": "code",
   "execution_count": 5,
   "id": "right-bruce",
   "metadata": {},
   "outputs": [
    {
     "name": "stdout",
     "output_type": "stream",
     "text": [
      "2.5\n",
      "2\n",
      "2.0\n",
      "2.0\n"
     ]
    }
   ],
   "source": [
    "# 소수점 이하를 버린다. (// 연산)\n",
    "print(5 / 2) # 실수\n",
    "print(5 // 2) # 정수\n",
    "print(5.0 // 2) # 실수\n",
    "print(5 // 2.0) # 실수"
   ]
  },
  {
   "cell_type": "code",
   "execution_count": 6,
   "id": "preceding-tuner",
   "metadata": {},
   "outputs": [
    {
     "data": {
      "text/plain": [
       "1"
      ]
     },
     "execution_count": 6,
     "metadata": {},
     "output_type": "execute_result"
    }
   ],
   "source": [
    "# 나머지 구하기 (%)\n",
    "5 % 2"
   ]
  },
  {
   "cell_type": "code",
   "execution_count": 7,
   "id": "alone-dispute",
   "metadata": {},
   "outputs": [
    {
     "data": {
      "text/plain": [
       "125"
      ]
     },
     "execution_count": 7,
     "metadata": {},
     "output_type": "execute_result"
    }
   ],
   "source": [
    "# 거듭제곱 (**)\n",
    "5 ** 3"
   ]
  },
  {
   "cell_type": "code",
   "execution_count": 19,
   "id": "associate-spyware",
   "metadata": {},
   "outputs": [
    {
     "name": "stdout",
     "output_type": "stream",
     "text": [
      "3\n",
      "<class 'int'>\n",
      "3.3\n",
      "<class 'float'>\n"
     ]
    }
   ],
   "source": [
    "# int(값) = 정수로 변환\n",
    "# float(값) = 실수로 변환\n",
    "a = 3.3\n",
    "print(int(a))\n",
    "print(type(int(a)))\n",
    "print(float(a))\n",
    "print(type(float(a)))"
   ]
  },
  {
   "cell_type": "code",
   "execution_count": 14,
   "id": "raising-charge",
   "metadata": {},
   "outputs": [
    {
     "data": {
      "text/plain": [
       "2.5"
      ]
     },
     "execution_count": 14,
     "metadata": {},
     "output_type": "execute_result"
    }
   ],
   "source": [
    "# 퀴즈 1\n",
    "10 / 4"
   ]
  },
  {
   "cell_type": "code",
   "execution_count": 25,
   "id": "occasional-ceramic",
   "metadata": {},
   "outputs": [
    {
     "name": "stdout",
     "output_type": "stream",
     "text": [
      "3.0 / 3\n"
     ]
    }
   ],
   "source": [
    "# 퀴즈 2\n",
    "#a = (float)10 - 2 # 에러 --> SyntaxError: invalid syntax\n",
    "#b = (int)10 - 5 # 에러 --> SyntaxError: invalid syntax\n",
    "c = float(10 // 3) # 실수\n",
    "d = int(10 / 3) # 정수\n",
    "#e = float 10 / 3 # 에러 --> SyntaxError: invalid syntax\n",
    "\n",
    "print(c, d, sep=' / ')"
   ]
  },
  {
   "cell_type": "code",
   "execution_count": 15,
   "id": "improving-mandate",
   "metadata": {},
   "outputs": [
    {
     "data": {
      "text/plain": [
       "17"
      ]
     },
     "execution_count": 15,
     "metadata": {},
     "output_type": "execute_result"
    }
   ],
   "source": [
    "# 퀴즈 3\n",
    "7 + (10 - 5) * 2"
   ]
  },
  {
   "cell_type": "code",
   "execution_count": 18,
   "id": "legal-reference",
   "metadata": {},
   "outputs": [
    {
     "name": "stdout",
     "output_type": "stream",
     "text": [
      "7\n"
     ]
    }
   ],
   "source": [
    "# 연습문제\n",
    "# 국립환경과학원에서는 아파트에서 소음이 가장 심한 층수를 구하는 계산식을 발표했습니다.\n",
    "# 소음이 가장 심한 층은 0.2467 * 도로와의 거리(m) + 4.159입니다.\n",
    "# 다음 소스 코드를 완성하여 소음이 가장 심한 층수가 출력되게 만드세요.\n",
    "# 단, 층수를 출력할 때는 소수점 이하 자리는 버립니다(정수로 출력).\n",
    "\n",
    "# 도로와의 거리: 12m\n",
    "distance = 12\n",
    "result = (0.2487 * distance) + 4.159\n",
    "#print(result) # 실수로 출력된다. --> 정수로 출력해야함\n",
    "print(int(result)) # 정수로 출력"
   ]
  },
  {
   "cell_type": "code",
   "execution_count": 20,
   "id": "cosmetic-juice",
   "metadata": {},
   "outputs": [
    {
     "name": "stdout",
     "output_type": "stream",
     "text": [
      "286.2\n"
     ]
    }
   ],
   "source": [
    "# 심사문제\n",
    "print(102 * 0.6 + 225)"
   ]
  }
 ],
 "metadata": {
  "kernelspec": {
   "display_name": "Python 3",
   "language": "python",
   "name": "python3"
  },
  "language_info": {
   "codemirror_mode": {
    "name": "ipython",
    "version": 3
   },
   "file_extension": ".py",
   "mimetype": "text/x-python",
   "name": "python",
   "nbconvert_exporter": "python",
   "pygments_lexer": "ipython3",
   "version": "3.7.9"
  }
 },
 "nbformat": 4,
 "nbformat_minor": 5
}
