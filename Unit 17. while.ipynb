{
 "cells": [
  {
   "cell_type": "markdown",
   "id": "dirty-familiar",
   "metadata": {},
   "source": [
    "# while"
   ]
  },
  {
   "cell_type": "code",
   "execution_count": 3,
   "id": "several-female",
   "metadata": {},
   "outputs": [
    {
     "name": "stdout",
     "output_type": "stream",
     "text": [
      "1 2 3 4 5 6 7 8 9 "
     ]
    }
   ],
   "source": [
    "x = 1\n",
    "\n",
    "while x < 10:\n",
    "    print(x, end=' ')\n",
    "    x += 1 # x값 증가"
   ]
  },
  {
   "cell_type": "code",
   "execution_count": 4,
   "id": "nearby-solid",
   "metadata": {},
   "outputs": [
    {
     "name": "stdout",
     "output_type": "stream",
     "text": [
      "10 9 8 "
     ]
    }
   ],
   "source": [
    "a = 10\n",
    "\n",
    "while a > 7:\n",
    "    print(a, end=' ')\n",
    "    a -= 1 # a값 감소"
   ]
  },
  {
   "cell_type": "markdown",
   "id": "finite-regard",
   "metadata": {},
   "source": [
    "### random 모듈 사용\n",
    "  - random()"
   ]
  },
  {
   "cell_type": "code",
   "execution_count": 7,
   "id": "false-marble",
   "metadata": {},
   "outputs": [
    {
     "data": {
      "text/plain": [
       "0.2170698916068342"
      ]
     },
     "execution_count": 7,
     "metadata": {},
     "output_type": "execute_result"
    }
   ],
   "source": [
    "import random\n",
    "\n",
    "random.random()"
   ]
  },
  {
   "cell_type": "markdown",
   "id": "coral-exhaust",
   "metadata": {},
   "source": [
    "  - randint(시작, 종료)   \n",
    "  \n",
    "시작~종료값 까지의 숫자 중 무작위로 하나 뽑는다."
   ]
  },
  {
   "cell_type": "code",
   "execution_count": 10,
   "id": "mediterranean-terminal",
   "metadata": {},
   "outputs": [
    {
     "data": {
      "text/plain": [
       "1104"
      ]
     },
     "execution_count": 10,
     "metadata": {},
     "output_type": "execute_result"
    }
   ],
   "source": [
    "random.randint(1, 10000)"
   ]
  },
  {
   "cell_type": "code",
   "execution_count": 26,
   "id": "swiss-meeting",
   "metadata": {},
   "outputs": [
    {
     "name": "stdout",
     "output_type": "stream",
     "text": [
      "처음 생성된 난수 :  3\n"
     ]
    }
   ],
   "source": [
    "cnt = random.randint(1, 6)\n",
    "print('처음 생성된 난수 : ', cnt)\n",
    "\n",
    "while cnt > 3:\n",
    "    print(cnt, end=' ')\n",
    "    cnt = random.randint(1, 6)"
   ]
  },
  {
   "cell_type": "markdown",
   "id": "fourth-briefs",
   "metadata": {},
   "source": [
    "  - choice(시퀀스 객체)   \n",
    "  \n",
    "시퀀스 객체중 하나의 값을 무작위로 뽑는다."
   ]
  },
  {
   "cell_type": "code",
   "execution_count": 29,
   "id": "announced-content",
   "metadata": {},
   "outputs": [
    {
     "data": {
      "text/plain": [
       "36"
      ]
     },
     "execution_count": 29,
     "metadata": {},
     "output_type": "execute_result"
    }
   ],
   "source": [
    "a = list(range(100))\n",
    "random.choice(a)"
   ]
  },
  {
   "cell_type": "code",
   "execution_count": 30,
   "id": "functioning-generation",
   "metadata": {},
   "outputs": [
    {
     "data": {
      "text/plain": [
       "26"
      ]
     },
     "execution_count": 30,
     "metadata": {},
     "output_type": "execute_result"
    }
   ],
   "source": [
    "b = tuple(range(100))\n",
    "random.choice(b)"
   ]
  },
  {
   "cell_type": "code",
   "execution_count": 32,
   "id": "sublime-intake",
   "metadata": {},
   "outputs": [
    {
     "name": "stdout",
     "output_type": "stream",
     "text": [
      "10000\n",
      "8650\n",
      "7300\n",
      "5950\n",
      "4600\n",
      "3250\n",
      "1900\n",
      "550\n"
     ]
    }
   ],
   "source": [
    "total = int(input())\n",
    "price = 1350\n",
    "\n",
    "while total >= price:\n",
    "    total -= price\n",
    "    print(total)"
   ]
  },
  {
   "cell_type": "code",
   "execution_count": null,
   "id": "sought-collective",
   "metadata": {},
   "outputs": [],
   "source": []
  }
 ],
 "metadata": {
  "kernelspec": {
   "display_name": "Python 3",
   "language": "python",
   "name": "python3"
  },
  "language_info": {
   "codemirror_mode": {
    "name": "ipython",
    "version": 3
   },
   "file_extension": ".py",
   "mimetype": "text/x-python",
   "name": "python",
   "nbconvert_exporter": "python",
   "pygments_lexer": "ipython3",
   "version": "3.7.9"
  }
 },
 "nbformat": 4,
 "nbformat_minor": 5
}
