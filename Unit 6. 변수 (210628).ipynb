{
 "cells": [
  {
   "cell_type": "markdown",
   "id": "boolean-product",
   "metadata": {},
   "source": [
    "## 변수 만들기"
   ]
  },
  {
   "cell_type": "code",
   "execution_count": 11,
   "id": "banned-confirmation",
   "metadata": {},
   "outputs": [
    {
     "name": "stdout",
     "output_type": "stream",
     "text": [
      "10\n"
     ]
    }
   ],
   "source": [
    "x = 10\n",
    "print(x)"
   ]
  },
  {
   "cell_type": "markdown",
   "id": "unauthorized-industry",
   "metadata": {},
   "source": [
    "## 변수의 자료형 알아내기"
   ]
  },
  {
   "cell_type": "code",
   "execution_count": 2,
   "id": "recognized-cornell",
   "metadata": {},
   "outputs": [
    {
     "data": {
      "text/plain": [
       "int"
      ]
     },
     "execution_count": 2,
     "metadata": {},
     "output_type": "execute_result"
    }
   ],
   "source": [
    "type(x)"
   ]
  },
  {
   "cell_type": "markdown",
   "id": "atmospheric-accordance",
   "metadata": {},
   "source": [
    "## 변수 여러 개를 한 번에 만들기"
   ]
  },
  {
   "cell_type": "code",
   "execution_count": 5,
   "id": "offensive-marker",
   "metadata": {},
   "outputs": [
    {
     "name": "stdout",
     "output_type": "stream",
     "text": [
      "1 2 3\n"
     ]
    }
   ],
   "source": [
    "x, y, z = 1, 2, 3\n",
    "print(x, y, z)"
   ]
  },
  {
   "cell_type": "code",
   "execution_count": 12,
   "id": "concerned-print",
   "metadata": {},
   "outputs": [
    {
     "ename": "NameError",
     "evalue": "name 'x' is not defined",
     "output_type": "error",
     "traceback": [
      "\u001b[0;31m---------------------------------------------------------------------------\u001b[0m",
      "\u001b[0;31mNameError\u001b[0m                                 Traceback (most recent call last)",
      "\u001b[0;32m<ipython-input-12-791a4b8bef77>\u001b[0m in \u001b[0;36m<module>\u001b[0;34m\u001b[0m\n\u001b[1;32m      1\u001b[0m \u001b[0;31m# 변수 삭제하기\u001b[0m\u001b[0;34m\u001b[0m\u001b[0;34m\u001b[0m\u001b[0;34m\u001b[0m\u001b[0m\n\u001b[1;32m      2\u001b[0m \u001b[0;32mdel\u001b[0m \u001b[0mx\u001b[0m\u001b[0;34m\u001b[0m\u001b[0;34m\u001b[0m\u001b[0m\n\u001b[0;32m----> 3\u001b[0;31m \u001b[0mprint\u001b[0m\u001b[0;34m(\u001b[0m\u001b[0mx\u001b[0m\u001b[0;34m)\u001b[0m \u001b[0;31m# 에러 --> NameError: name 'X' is not defined\u001b[0m\u001b[0;34m\u001b[0m\u001b[0;34m\u001b[0m\u001b[0m\n\u001b[0m",
      "\u001b[0;31mNameError\u001b[0m: name 'x' is not defined"
     ]
    }
   ],
   "source": [
    "# 변수 삭제하기\n",
    "del x\n",
    "print(x) # 에러 --> NameError: name 'X' is not defined"
   ]
  },
  {
   "cell_type": "code",
   "execution_count": 13,
   "id": "iraqi-adams",
   "metadata": {},
   "outputs": [
    {
     "name": "stdout",
     "output_type": "stream",
     "text": [
      "10 20\n",
      "20 10\n"
     ]
    }
   ],
   "source": [
    "# 두 수 바꾸기\n",
    "x, y = 10, 20\n",
    "print(x, y)\n",
    "x, y = y, x\n",
    "print(x, y)"
   ]
  },
  {
   "cell_type": "markdown",
   "id": "incorporated-british",
   "metadata": {},
   "source": [
    "## 산술 연산 후 할당 연산자 사용하기"
   ]
  },
  {
   "cell_type": "code",
   "execution_count": 14,
   "id": "helpful-steal",
   "metadata": {},
   "outputs": [
    {
     "data": {
      "text/plain": [
       "30"
      ]
     },
     "execution_count": 14,
     "metadata": {},
     "output_type": "execute_result"
    }
   ],
   "source": [
    "a = 10\n",
    "a + 20"
   ]
  },
  {
   "cell_type": "code",
   "execution_count": 15,
   "id": "classical-developer",
   "metadata": {},
   "outputs": [
    {
     "data": {
      "text/plain": [
       "10"
      ]
     },
     "execution_count": 15,
     "metadata": {},
     "output_type": "execute_result"
    }
   ],
   "source": [
    "a"
   ]
  },
  {
   "cell_type": "code",
   "execution_count": 16,
   "id": "analyzed-sewing",
   "metadata": {},
   "outputs": [
    {
     "data": {
      "text/plain": [
       "30"
      ]
     },
     "execution_count": 16,
     "metadata": {},
     "output_type": "execute_result"
    }
   ],
   "source": [
    "# 값을 할당시켜야 변화된 값이 저장됨\n",
    "a = a + 20\n",
    "a"
   ]
  },
  {
   "cell_type": "code",
   "execution_count": 17,
   "id": "liked-divide",
   "metadata": {},
   "outputs": [
    {
     "data": {
      "text/plain": [
       "-30"
      ]
     },
     "execution_count": 17,
     "metadata": {},
     "output_type": "execute_result"
    }
   ],
   "source": [
    "-a"
   ]
  },
  {
   "cell_type": "code",
   "execution_count": 18,
   "id": "economic-needle",
   "metadata": {},
   "outputs": [
    {
     "data": {
      "text/plain": [
       "30"
      ]
     },
     "execution_count": 18,
     "metadata": {},
     "output_type": "execute_result"
    }
   ],
   "source": [
    "+a"
   ]
  },
  {
   "cell_type": "markdown",
   "id": "comprehensive-marks",
   "metadata": {},
   "source": [
    "## input 함수"
   ]
  },
  {
   "cell_type": "code",
   "execution_count": 19,
   "id": "found-korea",
   "metadata": {},
   "outputs": [
    {
     "name": "stdout",
     "output_type": "stream",
     "text": [
      "Hello world\n"
     ]
    },
    {
     "data": {
      "text/plain": [
       "'Hello world'"
      ]
     },
     "execution_count": 19,
     "metadata": {},
     "output_type": "execute_result"
    }
   ],
   "source": [
    "input()"
   ]
  },
  {
   "cell_type": "code",
   "execution_count": 20,
   "id": "static-store",
   "metadata": {},
   "outputs": [
    {
     "name": "stdout",
     "output_type": "stream",
     "text": [
      "python\n"
     ]
    }
   ],
   "source": [
    "s = input()"
   ]
  },
  {
   "cell_type": "code",
   "execution_count": 21,
   "id": "greatest-darkness",
   "metadata": {},
   "outputs": [
    {
     "data": {
      "text/plain": [
       "'python'"
      ]
     },
     "execution_count": 21,
     "metadata": {},
     "output_type": "execute_result"
    }
   ],
   "source": [
    "s"
   ]
  },
  {
   "cell_type": "code",
   "execution_count": 22,
   "id": "loving-acrylic",
   "metadata": {},
   "outputs": [
    {
     "data": {
      "text/plain": [
       "str"
      ]
     },
     "execution_count": 22,
     "metadata": {},
     "output_type": "execute_result"
    }
   ],
   "source": [
    "type(s)"
   ]
  },
  {
   "cell_type": "code",
   "execution_count": 23,
   "id": "radio-republic",
   "metadata": {},
   "outputs": [
    {
     "name": "stdout",
     "output_type": "stream",
     "text": [
      "첫 번째 숫자 입력100\n",
      "두 번째 숫자 입력300\n"
     ]
    }
   ],
   "source": [
    "p = input('첫 번째 숫자 입력')\n",
    "q = input('두 번째 숫자 입력')"
   ]
  },
  {
   "cell_type": "code",
   "execution_count": 24,
   "id": "executed-rotation",
   "metadata": {},
   "outputs": [
    {
     "name": "stdout",
     "output_type": "stream",
     "text": [
      "100300\n"
     ]
    }
   ],
   "source": [
    "print(p + q) # 100300"
   ]
  },
  {
   "cell_type": "code",
   "execution_count": 25,
   "id": "dried-complexity",
   "metadata": {},
   "outputs": [
    {
     "name": "stdout",
     "output_type": "stream",
     "text": [
      "400\n"
     ]
    }
   ],
   "source": [
    "p = int(p)\n",
    "q = int(q)\n",
    "print(p + q) # 400"
   ]
  },
  {
   "cell_type": "markdown",
   "id": "adjustable-civilization",
   "metadata": {},
   "source": [
    "## 입력 값을 변수 두 개에 저장하기"
   ]
  },
  {
   "cell_type": "code",
   "execution_count": 26,
   "id": "small-purchase",
   "metadata": {},
   "outputs": [
    {
     "name": "stdout",
     "output_type": "stream",
     "text": [
      "30 50\n"
     ]
    }
   ],
   "source": [
    "ab, bc = input().split()"
   ]
  },
  {
   "cell_type": "code",
   "execution_count": 28,
   "id": "attractive-chart",
   "metadata": {},
   "outputs": [
    {
     "name": "stdout",
     "output_type": "stream",
     "text": [
      "30 50\n"
     ]
    }
   ],
   "source": [
    "print(ab, bc)"
   ]
  },
  {
   "cell_type": "markdown",
   "id": "understanding-national",
   "metadata": {},
   "source": [
    "## map을 사용하여 정수로 변환하기"
   ]
  },
  {
   "cell_type": "code",
   "execution_count": 31,
   "id": "graphic-denmark",
   "metadata": {},
   "outputs": [
    {
     "name": "stdout",
     "output_type": "stream",
     "text": [
      "39, 84\n"
     ]
    }
   ],
   "source": [
    "abc, bcd = map(int, input().split(','))"
   ]
  },
  {
   "cell_type": "code",
   "execution_count": 32,
   "id": "operational-appeal",
   "metadata": {},
   "outputs": [
    {
     "data": {
      "text/plain": [
       "123"
      ]
     },
     "execution_count": 32,
     "metadata": {},
     "output_type": "execute_result"
    }
   ],
   "source": [
    "abc + bcd"
   ]
  },
  {
   "cell_type": "code",
   "execution_count": 34,
   "id": "direct-narrow",
   "metadata": {},
   "outputs": [],
   "source": [
    "# 퀴즈 2. 다음 중 변수 이름으로 사용할 수 없는 것을 모두 고르세요.\n",
    "# 맨 처음 변수명에는 영어 소문자, 영어 대문자, _만 가능\n",
    "# 위치여부와는 상관없이 변수명에는 예약어, 특수기호 불가능\n",
    "\n",
    "# 여러줄 주석 = 드래그 후 'ctrl + /'\n",
    "# (1) 300\n",
    "# (2) _53A\n",
    "# (3) if\n",
    "# (4) z\n",
    "# (5) H-80\n",
    "# (6) _hello3\n",
    "# (7) 30seconds\n",
    "# (8) 99%\n",
    "\n",
    "# 1, 3, 7. 8"
   ]
  },
  {
   "cell_type": "code",
   "execution_count": 35,
   "id": "apparent-parks",
   "metadata": {},
   "outputs": [],
   "source": [
    "# 퀴즈 3. 다음 중 변수와 연산자의 사용 방법으로 올바르지 않은 것을 모두 고르세요(파이썬 3).\n",
    "# a = 20\n",
    "# b = 30\n",
    "\n",
    "# 변수는 선언되어 있어야 한다.\n",
    "# 값이 할당되어 있는지 확인한다.\n",
    "\n",
    "# (1) c = -a\n",
    "# (2) b + = a\n",
    "# (3) c = a // b\n",
    "# (4) c -= b\n",
    "# (5) c = a + 10\n",
    "\n",
    "# 4 --> 변수 c는 선언되어 있지 않다.\n",
    "# 2 --> + = 이 아닌 +="
   ]
  },
  {
   "cell_type": "code",
   "execution_count": 37,
   "id": "paperback-insertion",
   "metadata": {},
   "outputs": [
    {
     "name": "stdout",
     "output_type": "stream",
     "text": [
      "83 92 87 90\n",
      "88.0\n",
      "88\n",
      "88\n"
     ]
    }
   ],
   "source": [
    "# 심사퀴즈\n",
    "# 표준 입력으로 국어, 영어, 수학, 과학 점수가 입력됩니다.\n",
    "# 평균 점수를 출력하는 프로그램을 만드세요(input에서 안내 문자열은 출력하지 않아야 합니다).\n",
    "# 단, 평균 점수를 출력할 때는 소수점 이하 자리는 버립니다(정수로 출력).\n",
    "\n",
    "kor, eng, math, sci = map(int, input().split())\n",
    "print( (kor+eng+math+sci) / 4) # 88.0\n",
    "print( (kor+eng+math+sci) // 4) # 88\n",
    "print( int( (kor+eng+math+sci) / 4)) # 88"
   ]
  },
  {
   "cell_type": "code",
   "execution_count": null,
   "id": "functioning-turtle",
   "metadata": {},
   "outputs": [],
   "source": []
  }
 ],
 "metadata": {
  "kernelspec": {
   "display_name": "Python 3",
   "language": "python",
   "name": "python3"
  },
  "language_info": {
   "codemirror_mode": {
    "name": "ipython",
    "version": 3
   },
   "file_extension": ".py",
   "mimetype": "text/x-python",
   "name": "python",
   "nbconvert_exporter": "python",
   "pygments_lexer": "ipython3",
   "version": "3.7.9"
  }
 },
 "nbformat": 4,
 "nbformat_minor": 5
}
