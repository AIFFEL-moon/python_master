{
 "cells": [
  {
   "cell_type": "markdown",
   "id": "ambient-frederick",
   "metadata": {},
   "source": [
    "# else"
   ]
  },
  {
   "cell_type": "markdown",
   "id": "specific-clearance",
   "metadata": {},
   "source": [
    "if 비가 오는가:   \n",
    "&nbsp;&nbsp;&nbsp;&nbsp;우산을 쓴다.   \n",
    "else:   \n",
    "&nbsp;&nbsp;&nbsp;&nbsp;우산을 쓰지 않는다."
   ]
  },
  {
   "cell_type": "code",
   "execution_count": 1,
   "id": "right-granny",
   "metadata": {},
   "outputs": [
    {
     "name": "stdout",
     "output_type": "stream",
     "text": [
      "10이 아닙니다.\n"
     ]
    }
   ],
   "source": [
    "x = 5\n",
    "if x == 10:\n",
    "    print('10입니다.')\n",
    "else:\n",
    "    print('10이 아닙니다.')"
   ]
  },
  {
   "cell_type": "code",
   "execution_count": 2,
   "id": "average-album",
   "metadata": {},
   "outputs": [
    {
     "data": {
      "text/plain": [
       "'unluck'"
      ]
     },
     "execution_count": 2,
     "metadata": {},
     "output_type": "execute_result"
    }
   ],
   "source": [
    "if x == 10:\n",
    "    y = 'luck'\n",
    "else:\n",
    "    y = 'unluck'\n",
    "y"
   ]
  },
  {
   "cell_type": "markdown",
   "id": "intellectual-postcard",
   "metadata": {},
   "source": [
    "### 변수 = 값 if 조건문 else 값"
   ]
  },
  {
   "cell_type": "code",
   "execution_count": 7,
   "id": "functioning-slovak",
   "metadata": {},
   "outputs": [
    {
     "data": {
      "text/plain": [
       "'???'"
      ]
     },
     "execution_count": 7,
     "metadata": {},
     "output_type": "execute_result"
    }
   ],
   "source": [
    "a = 100\n",
    "# b = a if a == 100 else '???' # b = 100\n",
    "b = a if a == 10 else '???'\n",
    "b"
   ]
  },
  {
   "cell_type": "code",
   "execution_count": 8,
   "id": "third-equation",
   "metadata": {},
   "outputs": [
    {
     "ename": "IndentationError",
     "evalue": "expected an indented block (<ipython-input-8-3acef35518a7>, line 5)",
     "output_type": "error",
     "traceback": [
      "\u001b[0;36m  File \u001b[0;32m\"<ipython-input-8-3acef35518a7>\"\u001b[0;36m, line \u001b[0;32m5\u001b[0m\n\u001b[0;31m    print(z)\u001b[0m\n\u001b[0m        ^\u001b[0m\n\u001b[0;31mIndentationError\u001b[0m\u001b[0;31m:\u001b[0m expected an indented block\n"
     ]
    }
   ],
   "source": [
    "z = 999\n",
    "if z == 0:\n",
    "    print(z)\n",
    "else:\n",
    "print(z)\n",
    "    print('luck')"
   ]
  },
  {
   "cell_type": "code",
   "execution_count": 9,
   "id": "internal-macintosh",
   "metadata": {},
   "outputs": [
    {
     "name": "stdout",
     "output_type": "stream",
     "text": [
      "999\n",
      "luck\n"
     ]
    }
   ],
   "source": [
    "z = 999\n",
    "if z == 0:\n",
    "    print(z)\n",
    "else:\n",
    "    print(z)\n",
    "    print('luck')"
   ]
  },
  {
   "cell_type": "code",
   "execution_count": 10,
   "id": "handy-entertainment",
   "metadata": {},
   "outputs": [
    {
     "name": "stdout",
     "output_type": "stream",
     "text": [
      "999입니다.\n",
      "999가 아닙니다.\n"
     ]
    }
   ],
   "source": [
    "z = 999\n",
    "if z == 999:\n",
    "    print('999입니다.')\n",
    "else:\n",
    "    print('x에 들어있는 숫자는')\n",
    "print('999가 아닙니다.') # 들여쓰기 차이"
   ]
  },
  {
   "cell_type": "code",
   "execution_count": 12,
   "id": "recorded-kelly",
   "metadata": {},
   "outputs": [
    {
     "name": "stdout",
     "output_type": "stream",
     "text": [
      "True\n"
     ]
    }
   ],
   "source": [
    "if True:\n",
    "    print('True')\n",
    "else:\n",
    "    print('False')"
   ]
  },
  {
   "cell_type": "markdown",
   "id": "written-block",
   "metadata": {},
   "source": [
    "### False, None, 0, 0.0, ''(빈 문자열)은 False"
   ]
  },
  {
   "cell_type": "code",
   "execution_count": 13,
   "id": "important-integer",
   "metadata": {},
   "outputs": [
    {
     "name": "stdout",
     "output_type": "stream",
     "text": [
      "False\n"
     ]
    }
   ],
   "source": [
    "if False:\n",
    "    print('True')\n",
    "else:\n",
    "    print('False')"
   ]
  },
  {
   "cell_type": "code",
   "execution_count": 15,
   "id": "unlike-minister",
   "metadata": {},
   "outputs": [
    {
     "name": "stdout",
     "output_type": "stream",
     "text": [
      "False\n"
     ]
    }
   ],
   "source": [
    "if None:\n",
    "    print('True')\n",
    "else:\n",
    "    print('False')"
   ]
  },
  {
   "cell_type": "code",
   "execution_count": 16,
   "id": "local-lecture",
   "metadata": {},
   "outputs": [
    {
     "name": "stdout",
     "output_type": "stream",
     "text": [
      "False\n"
     ]
    }
   ],
   "source": [
    "if 0:\n",
    "    print('True')\n",
    "else:\n",
    "    print('False')"
   ]
  },
  {
   "cell_type": "code",
   "execution_count": 19,
   "id": "agricultural-orleans",
   "metadata": {},
   "outputs": [
    {
     "name": "stdout",
     "output_type": "stream",
     "text": [
      "False\n"
     ]
    }
   ],
   "source": [
    "if 0.0:\n",
    "    print('True')\n",
    "else:\n",
    "    print('False')"
   ]
  },
  {
   "cell_type": "code",
   "execution_count": 20,
   "id": "stuffed-membrane",
   "metadata": {},
   "outputs": [
    {
     "name": "stdout",
     "output_type": "stream",
     "text": [
      "False\n"
     ]
    }
   ],
   "source": [
    "if '':\n",
    "    print('True')\n",
    "else:\n",
    "    print('False')"
   ]
  },
  {
   "cell_type": "markdown",
   "id": "drawn-stamp",
   "metadata": {},
   "source": [
    "### 빈 객체와 len() 리턴값이 0일 경우에도 False"
   ]
  },
  {
   "cell_type": "code",
   "execution_count": 23,
   "id": "judicial-elevation",
   "metadata": {},
   "outputs": [],
   "source": [
    "a = dict()\n",
    "b = list()\n",
    "c = tuple()"
   ]
  },
  {
   "cell_type": "code",
   "execution_count": 24,
   "id": "driven-friendly",
   "metadata": {},
   "outputs": [
    {
     "name": "stdout",
     "output_type": "stream",
     "text": [
      "False\n"
     ]
    }
   ],
   "source": [
    "if a:\n",
    "    print('True')\n",
    "else:\n",
    "    print('False')"
   ]
  },
  {
   "cell_type": "code",
   "execution_count": 25,
   "id": "arabic-advertiser",
   "metadata": {},
   "outputs": [
    {
     "name": "stdout",
     "output_type": "stream",
     "text": [
      "False\n"
     ]
    }
   ],
   "source": [
    "if b:\n",
    "    print('True')\n",
    "else:\n",
    "    print('False')"
   ]
  },
  {
   "cell_type": "code",
   "execution_count": 26,
   "id": "exclusive-department",
   "metadata": {},
   "outputs": [
    {
     "name": "stdout",
     "output_type": "stream",
     "text": [
      "False\n"
     ]
    }
   ],
   "source": [
    "if c:\n",
    "    print('True')\n",
    "else:\n",
    "    print('False')"
   ]
  },
  {
   "cell_type": "code",
   "execution_count": 27,
   "id": "hollywood-remains",
   "metadata": {},
   "outputs": [
    {
     "name": "stdout",
     "output_type": "stream",
     "text": [
      "False\n"
     ]
    }
   ],
   "source": [
    "if len(a):\n",
    "    print('True')\n",
    "else:\n",
    "    print('False')"
   ]
  },
  {
   "cell_type": "markdown",
   "id": "mighty-algebra",
   "metadata": {},
   "source": [
    "### 조건식 여러개 / 중첩 if문 / 논리연산자"
   ]
  },
  {
   "cell_type": "code",
   "execution_count": 29,
   "id": "aggregate-military",
   "metadata": {},
   "outputs": [
    {
     "name": "stdout",
     "output_type": "stream",
     "text": [
      "10\n",
      "20\n"
     ]
    }
   ],
   "source": [
    "x = 10\n",
    "y = 20\n",
    "if x == 10:\n",
    "    if y == 20:\n",
    "        print(x)\n",
    "        print(y)"
   ]
  },
  {
   "cell_type": "code",
   "execution_count": 30,
   "id": "secret-colleague",
   "metadata": {},
   "outputs": [
    {
     "name": "stdout",
     "output_type": "stream",
     "text": [
      "10,20\n"
     ]
    }
   ],
   "source": [
    "if x == 10 and y == 20:\n",
    "    print(x, y, sep=',')"
   ]
  },
  {
   "cell_type": "code",
   "execution_count": 33,
   "id": "political-nicholas",
   "metadata": {},
   "outputs": [
    {
     "name": "stdout",
     "output_type": "stream",
     "text": [
      "10\n"
     ]
    }
   ],
   "source": [
    "if 0 < x < 20:\n",
    "    print(x)"
   ]
  },
  {
   "cell_type": "code",
   "execution_count": 34,
   "id": "involved-courage",
   "metadata": {},
   "outputs": [
    {
     "name": "stdout",
     "output_type": "stream",
     "text": [
      "123\n"
     ]
    }
   ],
   "source": [
    "q = 10\n",
    "r = 20\n",
    "if q and r:\n",
    "    print('123')"
   ]
  },
  {
   "cell_type": "code",
   "execution_count": 35,
   "id": "liable-diary",
   "metadata": {},
   "outputs": [
    {
     "name": "stdout",
     "output_type": "stream",
     "text": [
      "99999\n"
     ]
    }
   ],
   "source": [
    "q = r = 0\n",
    "if q and r:\n",
    "    print('123')\n",
    "else:\n",
    "    print('99999')"
   ]
  },
  {
   "cell_type": "code",
   "execution_count": 36,
   "id": "least-growing",
   "metadata": {},
   "outputs": [
    {
     "name": "stdout",
     "output_type": "stream",
     "text": [
      "10 20\n"
     ]
    }
   ],
   "source": [
    "print(x,y)"
   ]
  },
  {
   "cell_type": "code",
   "execution_count": 38,
   "id": "organized-scholarship",
   "metadata": {},
   "outputs": [
    {
     "name": "stdout",
     "output_type": "stream",
     "text": [
      "bbbbb\n"
     ]
    }
   ],
   "source": [
    "if x == 10 & y == 20:\n",
    "    print('abc')\n",
    "else:\n",
    "    print('bbbbb')"
   ]
  },
  {
   "cell_type": "code",
   "execution_count": 44,
   "id": "regulation-salvation",
   "metadata": {},
   "outputs": [
    {
     "name": "stdout",
     "output_type": "stream",
     "text": [
      "89 72 93 82\n",
      "잘못된 점수\n"
     ]
    }
   ],
   "source": [
    "kor, eng, math, scie = map(int, input().split())\n",
    "\n",
    "if 0 <= kor <= 100 and 0 <= eng <= 100 and 0 <= math <= 100 and 0 <= scie <= 100:\n",
    "    avg = (kor+eng+math+scie) / 4\n",
    "    \n",
    "    if avg >= 80:\n",
    "        print('합격')\n",
    "    else:\n",
    "        print('불합격')\n",
    "else:\n",
    "    print('잘못된 점수')"
   ]
  },
  {
   "cell_type": "code",
   "execution_count": 48,
   "id": "funky-rugby",
   "metadata": {},
   "outputs": [
    {
     "name": "stdout",
     "output_type": "stream",
     "text": [
      "99 85 101 90\n",
      "잘못된 점수\n"
     ]
    }
   ],
   "source": [
    "kor, eng, math, scie = map(int, input().split())\n",
    "\n",
    "if kor < 0 or kor > 100 or eng < 0 or eng > 100 or math < 0 or math > 100 or scie < 0 or scie > 100:\n",
    "    print('잘못된 점수')\n",
    "else:\n",
    "    avg = (kor+eng+math+scie) / 4\n",
    "    if avg >= 80:\n",
    "        print('합격')\n",
    "    else:\n",
    "        print('불합격')"
   ]
  },
  {
   "cell_type": "code",
   "execution_count": null,
   "id": "celtic-honey",
   "metadata": {},
   "outputs": [],
   "source": []
  }
 ],
 "metadata": {
  "kernelspec": {
   "display_name": "Python 3",
   "language": "python",
   "name": "python3"
  },
  "language_info": {
   "codemirror_mode": {
    "name": "ipython",
    "version": 3
   },
   "file_extension": ".py",
   "mimetype": "text/x-python",
   "name": "python",
   "nbconvert_exporter": "python",
   "pygments_lexer": "ipython3",
   "version": "3.7.9"
  }
 },
 "nbformat": 4,
 "nbformat_minor": 5
}
