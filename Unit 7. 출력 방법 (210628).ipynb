{
 "cells": [
  {
   "cell_type": "code",
   "execution_count": 2,
   "id": "equipped-denmark",
   "metadata": {},
   "outputs": [
    {
     "name": "stdout",
     "output_type": "stream",
     "text": [
      "1 2 3\n",
      "1, 2, 3\n"
     ]
    }
   ],
   "source": [
    "print(1, 2, 3)\n",
    "print(1, 2, 3, sep=', ') # sep로 값 사이에 문자 넣음"
   ]
  },
  {
   "cell_type": "code",
   "execution_count": 7,
   "id": "assured-intellectual",
   "metadata": {},
   "outputs": [
    {
     "name": "stdout",
     "output_type": "stream",
     "text": [
      "1\n",
      "2\n",
      "3\n"
     ]
    }
   ],
   "source": [
    "print(1, 2, 3, sep='\\n') # \\n을 사용하여 줄바꿈 적용\n",
    "# 1\n",
    "# 2\n",
    "# 3\n",
    "# 으로 보여지나, 실제로는\n",
    "# 1\\n\n",
    "# 2\\n\n",
    "# 3\n",
    "# 이다"
   ]
  },
  {
   "cell_type": "code",
   "execution_count": 10,
   "id": "preceding-crawford",
   "metadata": {},
   "outputs": [
    {
     "name": "stdout",
     "output_type": "stream",
     "text": [
      "123\n",
      "1 2 3\n",
      "1,2,3\n",
      "1\n",
      "2\n",
      "3\n"
     ]
    }
   ],
   "source": [
    "# end를 사용하여 print 마지막에 올 문자 적용\n",
    "print(1, end='')\n",
    "print(2, end='')\n",
    "print(3)\n",
    "\n",
    "print(1, end=' ')\n",
    "print(2, end=' ')\n",
    "print(3)\n",
    "\n",
    "print(1, end=',')\n",
    "print(2, end=',')\n",
    "print(3)\n",
    "\n",
    "print(1, end='\\n') # = print(1)\n",
    "print(2, end='\\n') # = print(2)\n",
    "print(3)\n",
    "# 결국 print(1)은 print(1, end='\\n')과 같다"
   ]
  },
  {
   "cell_type": "code",
   "execution_count": 11,
   "id": "satisfactory-orlando",
   "metadata": {},
   "outputs": [
    {
     "name": "stdout",
     "output_type": "stream",
     "text": [
      "Hello Python\n",
      "Hello\n",
      "Python\n"
     ]
    }
   ],
   "source": [
    "print('Hello', 'Python', end='\\n') # 마지막에 넣는 문자라서 'Hello Python\\n'으로 됨\n",
    "print('Hello', 'Python', sep='\\n')"
   ]
  },
  {
   "cell_type": "code",
   "execution_count": null,
   "id": "manual-oasis",
   "metadata": {},
   "outputs": [],
   "source": []
  }
 ],
 "metadata": {
  "kernelspec": {
   "display_name": "Python 3",
   "language": "python",
   "name": "python3"
  },
  "language_info": {
   "codemirror_mode": {
    "name": "ipython",
    "version": 3
   },
   "file_extension": ".py",
   "mimetype": "text/x-python",
   "name": "python",
   "nbconvert_exporter": "python",
   "pygments_lexer": "ipython3",
   "version": "3.7.9"
  }
 },
 "nbformat": 4,
 "nbformat_minor": 5
}
